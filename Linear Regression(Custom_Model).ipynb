{
 "cells": [
  {
   "cell_type": "markdown",
   "id": "d4fa4360",
   "metadata": {},
   "source": [
    "### 1. Calculate Mean and Variance"
   ]
  },
  {
   "cell_type": "code",
   "execution_count": 1,
   "id": "744d4123",
   "metadata": {},
   "outputs": [],
   "source": [
    "# Calculate the mean value of a list of numbers\n",
    "# mean(x) = sum(x) / count(x)\n",
    "def mean(values):\n",
    "    return sum(values) / float(len(values))"
   ]
  },
  {
   "cell_type": "code",
   "execution_count": 2,
   "id": "4c99bd3d",
   "metadata": {},
   "outputs": [],
   "source": [
    "# Calculate the variance of a list of numbers\n",
    "# variance = sum( (x - mean(x))^2 )\n",
    "def variance(values, mean):\n",
    "    return sum([(x-mean)**2 for x in values])"
   ]
  },
  {
   "cell_type": "code",
   "execution_count": 3,
   "id": "6decb1a5",
   "metadata": {},
   "outputs": [
    {
     "name": "stdout",
     "output_type": "stream",
     "text": [
      "x stats: mean=3.0, variance=10.0\n",
      "y stats: mean=2.8, variance=8.8\n"
     ]
    }
   ],
   "source": [
    "dataset = [[1, 1], [2, 3], [4, 3], [3, 2], [5, 5]]\n",
    "x = [row[0] for row in dataset]\n",
    "y = [row[1] for row in dataset]\n",
    "mean_x, mean_y = mean(x), mean(y)\n",
    "var_x, var_y = variance(x, mean_x), variance(y, mean_y)\n",
    "print(f\"x stats: mean={round(mean_x,2)}, variance={round(var_x,2)}\")\n",
    "print(f\"y stats: mean={round(mean_y,2)}, variance={round(var_y,2)}\")"
   ]
  },
  {
   "cell_type": "markdown",
   "id": "31a15cfb",
   "metadata": {},
   "source": [
    "### 2. Calculate Covariance"
   ]
  },
  {
   "cell_type": "code",
   "execution_count": 4,
   "id": "519f5ff7",
   "metadata": {},
   "outputs": [],
   "source": [
    "# Calculate covariance between x and y\n",
    "def covariance(x, mean_x, y, mean_y):\n",
    "    covar = 0.0\n",
    "    for i in range(len(x)):\n",
    "        covar += (x[i] - mean_x) * (y[i] - mean_y)\n",
    "    return covar"
   ]
  },
  {
   "cell_type": "code",
   "execution_count": 5,
   "id": "32f8dc45",
   "metadata": {},
   "outputs": [
    {
     "name": "stdout",
     "output_type": "stream",
     "text": [
      "Covariance=8.0\n"
     ]
    }
   ],
   "source": [
    "cov = covariance(x, mean_x, y, mean_y)\n",
    "print(f\"Covariance={round(cov,2)}\")"
   ]
  },
  {
   "cell_type": "markdown",
   "id": "b45d4647",
   "metadata": {},
   "source": [
    "### 3. Estimate Coefficients\n",
    "**slope(θ1) = sum((x(i) - mean(x)) * (y(i) - mean(y))) / sum( (x(i) - mean(x))^2 )**  \n",
    "**slope(θ1) = covariance(x, y) / variance(x)**\n",
    "\n",
    "**intercept(θ0) = mean(y) - B1 * mean(x)**"
   ]
  },
  {
   "cell_type": "code",
   "execution_count": 6,
   "id": "c837aaa5",
   "metadata": {},
   "outputs": [],
   "source": [
    "# Calculate coefficients\n",
    "def coefficients(dataset):\n",
    "    x = [row[0] for row in dataset]\n",
    "    y = [row[1] for row in dataset]\n",
    "    x_mean, y_mean = mean(x), mean(y)\n",
    "    b1 = covariance(x, x_mean, y, y_mean) / variance(x, x_mean)\n",
    "    b0 = y_mean - b1 * x_mean\n",
    "    return [b0, b1]"
   ]
  },
  {
   "cell_type": "code",
   "execution_count": 9,
   "id": "3d81dbb1",
   "metadata": {},
   "outputs": [
    {
     "name": "stdout",
     "output_type": "stream",
     "text": [
      "Coefficients: B0=0.4, B1=0.8\n"
     ]
    }
   ],
   "source": [
    "# calculate coefficients\n",
    "dataset = [[1, 1], [2, 3], [4, 3], [3, 2], [5, 5]]\n",
    "b0, b1 = coefficients(dataset)\n",
    "print(f'Coefficients: B0={round(b0,2)}, B1={round(b1,2)}')"
   ]
  },
  {
   "cell_type": "code",
   "execution_count": 326,
   "id": "8c33c5b7",
   "metadata": {},
   "outputs": [],
   "source": [
    "from random import seed\n",
    "from random import randrange\n",
    "from csv import reader\n",
    "from math import sqrt"
   ]
  },
  {
   "cell_type": "code",
   "execution_count": 327,
   "id": "80db1d07",
   "metadata": {},
   "outputs": [],
   "source": [
    "def load_my_csv(filename):\n",
    "    dataset = list()\n",
    "    with open(filename, 'r') as file:\n",
    "        next(file)\n",
    "        csv_reader = reader(file)\n",
    "        for row in csv_reader:\n",
    "            if not row:\n",
    "                continue\n",
    "            dataset.append(row)\n",
    "    return dataset"
   ]
  },
  {
   "cell_type": "code",
   "execution_count": 328,
   "id": "355a17f2",
   "metadata": {},
   "outputs": [],
   "source": [
    "data = load_my_csv('insurance.csv')"
   ]
  },
  {
   "cell_type": "code",
   "execution_count": 329,
   "id": "ca6ff6fc",
   "metadata": {},
   "outputs": [
    {
     "data": {
      "text/plain": [
       "[['108', '392.5'],\n",
       " ['19', '46.2'],\n",
       " ['13', '15.7'],\n",
       " ['124', '422.2'],\n",
       " ['40', '119.4'],\n",
       " ['57', '170.9'],\n",
       " ['23', '56.9'],\n",
       " ['14', '77.5'],\n",
       " ['45', '214'],\n",
       " ['10', '65.3'],\n",
       " ['5', '20.9'],\n",
       " ['48', '248.1'],\n",
       " ['11', '23.5'],\n",
       " ['23', '39.6'],\n",
       " ['7', '48.8'],\n",
       " ['2', '6.6'],\n",
       " ['24', '134.9'],\n",
       " ['6', '50.9'],\n",
       " ['3', '4.4'],\n",
       " ['23', '113'],\n",
       " ['6', '14.8'],\n",
       " ['9', '48.7'],\n",
       " ['9', '52.1'],\n",
       " ['3', '13.2'],\n",
       " ['29', '103.9'],\n",
       " ['7', '77.5'],\n",
       " ['4', '11.8'],\n",
       " ['20', '98.1'],\n",
       " ['7', '27.9'],\n",
       " ['4', '38.1'],\n",
       " ['0', '0'],\n",
       " ['25', '69.2'],\n",
       " ['6', '14.6'],\n",
       " ['5', '40.3'],\n",
       " ['22', '161.5'],\n",
       " ['11', '57.2'],\n",
       " ['61', '217.6'],\n",
       " ['12', '58.1'],\n",
       " ['4', '12.6'],\n",
       " ['16', '59.6'],\n",
       " ['13', '89.9'],\n",
       " ['60', '202.4'],\n",
       " ['41', '181.3'],\n",
       " ['37', '152.8'],\n",
       " ['55', '162.8'],\n",
       " ['41', '73.4'],\n",
       " ['11', '21.3'],\n",
       " ['27', '92.6'],\n",
       " ['8', '76.1'],\n",
       " ['3', '39.9'],\n",
       " ['17', '142.1'],\n",
       " ['13', '93'],\n",
       " ['13', '31.9'],\n",
       " ['15', '32.1'],\n",
       " ['8', '55.6'],\n",
       " ['29', '133.3'],\n",
       " ['30', '194.5'],\n",
       " ['24', '137.9'],\n",
       " ['9', '87.4'],\n",
       " ['31', '209.8'],\n",
       " ['14', '95.5'],\n",
       " ['53', '244.6'],\n",
       " ['26', '187.5']]"
      ]
     },
     "execution_count": 329,
     "metadata": {},
     "output_type": "execute_result"
    }
   ],
   "source": [
    "data"
   ]
  },
  {
   "cell_type": "code",
   "execution_count": 330,
   "id": "bd0367b1",
   "metadata": {},
   "outputs": [],
   "source": [
    "# Convert string column to float\n",
    "def str_column_to_float_colummn(dataset, column):\n",
    "    for row in dataset:\n",
    "        row[column] = float(row[column].strip())"
   ]
  },
  {
   "cell_type": "code",
   "execution_count": 331,
   "id": "77cb8b0a",
   "metadata": {},
   "outputs": [],
   "source": [
    "for i in range(len(data[0])):\n",
    "    str_column_to_float_colummn(data, i)"
   ]
  },
  {
   "cell_type": "code",
   "execution_count": 332,
   "id": "9250f367",
   "metadata": {},
   "outputs": [
    {
     "data": {
      "text/plain": [
       "[[108.0, 392.5],\n",
       " [19.0, 46.2],\n",
       " [13.0, 15.7],\n",
       " [124.0, 422.2],\n",
       " [40.0, 119.4],\n",
       " [57.0, 170.9],\n",
       " [23.0, 56.9],\n",
       " [14.0, 77.5],\n",
       " [45.0, 214.0],\n",
       " [10.0, 65.3],\n",
       " [5.0, 20.9],\n",
       " [48.0, 248.1],\n",
       " [11.0, 23.5],\n",
       " [23.0, 39.6],\n",
       " [7.0, 48.8],\n",
       " [2.0, 6.6],\n",
       " [24.0, 134.9],\n",
       " [6.0, 50.9],\n",
       " [3.0, 4.4],\n",
       " [23.0, 113.0],\n",
       " [6.0, 14.8],\n",
       " [9.0, 48.7],\n",
       " [9.0, 52.1],\n",
       " [3.0, 13.2],\n",
       " [29.0, 103.9],\n",
       " [7.0, 77.5],\n",
       " [4.0, 11.8],\n",
       " [20.0, 98.1],\n",
       " [7.0, 27.9],\n",
       " [4.0, 38.1],\n",
       " [0.0, 0.0],\n",
       " [25.0, 69.2],\n",
       " [6.0, 14.6],\n",
       " [5.0, 40.3],\n",
       " [22.0, 161.5],\n",
       " [11.0, 57.2],\n",
       " [61.0, 217.6],\n",
       " [12.0, 58.1],\n",
       " [4.0, 12.6],\n",
       " [16.0, 59.6],\n",
       " [13.0, 89.9],\n",
       " [60.0, 202.4],\n",
       " [41.0, 181.3],\n",
       " [37.0, 152.8],\n",
       " [55.0, 162.8],\n",
       " [41.0, 73.4],\n",
       " [11.0, 21.3],\n",
       " [27.0, 92.6],\n",
       " [8.0, 76.1],\n",
       " [3.0, 39.9],\n",
       " [17.0, 142.1],\n",
       " [13.0, 93.0],\n",
       " [13.0, 31.9],\n",
       " [15.0, 32.1],\n",
       " [8.0, 55.6],\n",
       " [29.0, 133.3],\n",
       " [30.0, 194.5],\n",
       " [24.0, 137.9],\n",
       " [9.0, 87.4],\n",
       " [31.0, 209.8],\n",
       " [14.0, 95.5],\n",
       " [53.0, 244.6],\n",
       " [26.0, 187.5]]"
      ]
     },
     "execution_count": 332,
     "metadata": {},
     "output_type": "execute_result"
    }
   ],
   "source": [
    "data"
   ]
  },
  {
   "cell_type": "code",
   "execution_count": 334,
   "id": "09011c0f",
   "metadata": {},
   "outputs": [
    {
     "data": {
      "text/plain": [
       "[[108.0, 392.5],\n",
       " [19.0, 46.2],\n",
       " [13.0, 15.7],\n",
       " [124.0, 422.2],\n",
       " [40.0, 119.4],\n",
       " [57.0, 170.9],\n",
       " [23.0, 56.9],\n",
       " [14.0, 77.5],\n",
       " [45.0, 214.0],\n",
       " [10.0, 65.3],\n",
       " [5.0, 20.9],\n",
       " [48.0, 248.1],\n",
       " [11.0, 23.5],\n",
       " [23.0, 39.6],\n",
       " [7.0, 48.8],\n",
       " [2.0, 6.6],\n",
       " [24.0, 134.9],\n",
       " [6.0, 50.9],\n",
       " [3.0, 4.4],\n",
       " [23.0, 113.0],\n",
       " [6.0, 14.8],\n",
       " [9.0, 48.7],\n",
       " [9.0, 52.1],\n",
       " [3.0, 13.2],\n",
       " [29.0, 103.9],\n",
       " [7.0, 77.5],\n",
       " [4.0, 11.8],\n",
       " [20.0, 98.1],\n",
       " [7.0, 27.9],\n",
       " [4.0, 38.1],\n",
       " [0.0, 0.0],\n",
       " [25.0, 69.2],\n",
       " [6.0, 14.6],\n",
       " [5.0, 40.3],\n",
       " [22.0, 161.5],\n",
       " [11.0, 57.2],\n",
       " [61.0, 217.6],\n",
       " [12.0, 58.1],\n",
       " [4.0, 12.6],\n",
       " [16.0, 59.6],\n",
       " [13.0, 89.9],\n",
       " [60.0, 202.4],\n",
       " [41.0, 181.3],\n",
       " [37.0, 152.8],\n",
       " [55.0, 162.8],\n",
       " [41.0, 73.4],\n",
       " [11.0, 21.3],\n",
       " [27.0, 92.6],\n",
       " [8.0, 76.1],\n",
       " [3.0, 39.9],\n",
       " [17.0, 142.1],\n",
       " [13.0, 93.0],\n",
       " [13.0, 31.9],\n",
       " [15.0, 32.1],\n",
       " [8.0, 55.6],\n",
       " [29.0, 133.3],\n",
       " [30.0, 194.5],\n",
       " [24.0, 137.9],\n",
       " [9.0, 87.4],\n",
       " [31.0, 209.8],\n",
       " [14.0, 95.5],\n",
       " [53.0, 244.6],\n",
       " [26.0, 187.5]]"
      ]
     },
     "execution_count": 334,
     "metadata": {},
     "output_type": "execute_result"
    }
   ],
   "source": [
    "dataset_copy = list(data)\n",
    "dataset_copy"
   ]
  },
  {
   "cell_type": "code",
   "execution_count": 338,
   "id": "2d2ea0ea",
   "metadata": {},
   "outputs": [
    {
     "data": {
      "text/plain": [
       "63"
      ]
     },
     "execution_count": 338,
     "metadata": {},
     "output_type": "execute_result"
    }
   ],
   "source": [
    "len(dataset)"
   ]
  },
  {
   "cell_type": "code",
   "execution_count": 348,
   "id": "f91f4c2f",
   "metadata": {},
   "outputs": [
    {
     "data": {
      "text/plain": [
       "59.849999999999994"
      ]
     },
     "execution_count": 348,
     "metadata": {},
     "output_type": "execute_result"
    }
   ],
   "source": [
    "train_size = .95 * len(dataset)\n",
    "train_size"
   ]
  },
  {
   "cell_type": "code",
   "execution_count": 349,
   "id": "ee34c515",
   "metadata": {},
   "outputs": [],
   "source": [
    "def train_test_split_data(dataset, split):\n",
    "    train = list()\n",
    "    train_size = split * len(dataset)\n",
    "    dataset_copy = list(dataset)\n",
    "    while len(train) < train_size:\n",
    "        index = randrange(len(dataset_copy))\n",
    "        train.append(dataset_copy.pop(index))\n",
    "    return train, dataset_copy"
   ]
  },
  {
   "cell_type": "code",
   "execution_count": 350,
   "id": "7c86a453",
   "metadata": {},
   "outputs": [],
   "source": [
    "train_data,test_data = train_test_split_data(data,.95)"
   ]
  },
  {
   "cell_type": "code",
   "execution_count": 351,
   "id": "f623a75b",
   "metadata": {},
   "outputs": [
    {
     "data": {
      "text/plain": [
       "[[45.0, 214.0],\n",
       " [48.0, 248.1],\n",
       " [11.0, 23.5],\n",
       " [53.0, 244.6],\n",
       " [12.0, 58.1],\n",
       " [24.0, 134.9],\n",
       " [9.0, 48.7],\n",
       " [8.0, 55.6],\n",
       " [4.0, 11.8],\n",
       " [41.0, 73.4],\n",
       " [16.0, 59.6],\n",
       " [6.0, 14.8],\n",
       " [0.0, 0.0],\n",
       " [7.0, 27.9],\n",
       " [4.0, 38.1],\n",
       " [14.0, 77.5],\n",
       " [7.0, 77.5],\n",
       " [9.0, 52.1],\n",
       " [29.0, 133.3],\n",
       " [27.0, 92.6],\n",
       " [5.0, 20.9],\n",
       " [24.0, 137.9],\n",
       " [15.0, 32.1],\n",
       " [23.0, 56.9],\n",
       " [11.0, 57.2],\n",
       " [13.0, 15.7],\n",
       " [11.0, 21.3],\n",
       " [57.0, 170.9],\n",
       " [55.0, 162.8],\n",
       " [3.0, 4.4],\n",
       " [6.0, 50.9],\n",
       " [37.0, 152.8],\n",
       " [40.0, 119.4],\n",
       " [41.0, 181.3],\n",
       " [60.0, 202.4],\n",
       " [31.0, 209.8],\n",
       " [6.0, 14.6],\n",
       " [124.0, 422.2],\n",
       " [17.0, 142.1],\n",
       " [3.0, 39.9],\n",
       " [3.0, 13.2],\n",
       " [30.0, 194.5],\n",
       " [10.0, 65.3],\n",
       " [25.0, 69.2],\n",
       " [4.0, 12.6],\n",
       " [22.0, 161.5],\n",
       " [7.0, 48.8],\n",
       " [14.0, 95.5],\n",
       " [26.0, 187.5],\n",
       " [23.0, 113.0],\n",
       " [19.0, 46.2],\n",
       " [108.0, 392.5],\n",
       " [5.0, 40.3],\n",
       " [23.0, 39.6],\n",
       " [2.0, 6.6],\n",
       " [20.0, 98.1],\n",
       " [8.0, 76.1],\n",
       " [29.0, 103.9],\n",
       " [61.0, 217.6],\n",
       " [13.0, 93.0]]"
      ]
     },
     "execution_count": 351,
     "metadata": {},
     "output_type": "execute_result"
    }
   ],
   "source": [
    "train_data"
   ]
  },
  {
   "cell_type": "code",
   "execution_count": 352,
   "id": "68c4c472",
   "metadata": {},
   "outputs": [
    {
     "data": {
      "text/plain": [
       "[[13.0, 89.9], [13.0, 31.9], [9.0, 87.4]]"
      ]
     },
     "execution_count": 352,
     "metadata": {},
     "output_type": "execute_result"
    }
   ],
   "source": [
    "test_data"
   ]
  },
  {
   "cell_type": "code",
   "execution_count": 353,
   "id": "996b6b5a",
   "metadata": {},
   "outputs": [],
   "source": [
    "# Simple linear regression algorithm\n",
    "def simple_linear_regression_data(train, test):\n",
    "    predictions = list()\n",
    "    b0, b1 = coefficients(train)\n",
    "    for row in test:\n",
    "        yhat = b0 + b1 * row[0]\n",
    "        predictions.append(yhat)\n",
    "    return predictions"
   ]
  },
  {
   "cell_type": "code",
   "execution_count": 354,
   "id": "46cded10",
   "metadata": {},
   "outputs": [],
   "source": [
    "prediction = simple_linear_regression_data(train_data,test_data)"
   ]
  },
  {
   "cell_type": "code",
   "execution_count": 355,
   "id": "7af19b2a",
   "metadata": {},
   "outputs": [
    {
     "data": {
      "text/plain": [
       "[63.73514871839914, 63.73514871839914, 50.02501447065356]"
      ]
     },
     "execution_count": 355,
     "metadata": {},
     "output_type": "execute_result"
    }
   ],
   "source": [
    "prediction"
   ]
  },
  {
   "cell_type": "code",
   "execution_count": 356,
   "id": "098e4038",
   "metadata": {},
   "outputs": [],
   "source": [
    "actual = [row[-1] for row in test_data]"
   ]
  },
  {
   "cell_type": "code",
   "execution_count": 357,
   "id": "17a6e04a",
   "metadata": {},
   "outputs": [
    {
     "data": {
      "text/plain": [
       "[89.9, 31.9, 87.4]"
      ]
     },
     "execution_count": 357,
     "metadata": {},
     "output_type": "execute_result"
    }
   ],
   "source": [
    "actual"
   ]
  },
  {
   "cell_type": "markdown",
   "id": "9803c83f",
   "metadata": {},
   "source": [
    "### Calculating RMSE(Root Mean Squared Error)"
   ]
  },
  {
   "cell_type": "code",
   "execution_count": 358,
   "id": "d14e1bfc",
   "metadata": {},
   "outputs": [],
   "source": [
    "# Calculate root mean squared error\n",
    "def rmse_metric_data(actual, predicted):\n",
    "    sum_error = 0.0\n",
    "    for i in range(len(actual)):\n",
    "        prediction_error = predicted[i] - actual[i]\n",
    "        sum_error += (prediction_error ** 2)\n",
    "    mean_error = sum_error / float(len(actual))\n",
    "    return sqrt(mean_error)"
   ]
  },
  {
   "cell_type": "code",
   "execution_count": 359,
   "id": "b8fec108",
   "metadata": {},
   "outputs": [],
   "source": [
    "rmse = rmse_metric_data(actual,prediction)"
   ]
  },
  {
   "cell_type": "code",
   "execution_count": 360,
   "id": "219589b4",
   "metadata": {},
   "outputs": [
    {
     "data": {
      "text/plain": [
       "32.11939019673183"
      ]
     },
     "execution_count": 360,
     "metadata": {},
     "output_type": "execute_result"
    }
   ],
   "source": [
    "rmse"
   ]
  },
  {
   "cell_type": "code",
   "execution_count": 263,
   "id": "53681600",
   "metadata": {},
   "outputs": [
    {
     "name": "stdout",
     "output_type": "stream",
     "text": [
      "RMSE: 33.619\n"
     ]
    }
   ],
   "source": [
    "# Simple Linear Regression on the Swedish Insurance Dataset\n",
    "from random import seed\n",
    "from random import randrange\n",
    "from csv import reader\n",
    "from math import sqrt\n",
    "\n",
    "# Load a CSV file\n",
    "def load_csv(filename):\n",
    "    dataset = list()\n",
    "    with open(filename, 'r') as file:\n",
    "        next(file)\n",
    "        csv_reader = reader(file)\n",
    "        for row in csv_reader:\n",
    "            if not row:\n",
    "                continue\n",
    "            dataset.append(row)\n",
    "    return dataset\n",
    "\n",
    "# Convert string column to float\n",
    "def str_column_to_float(dataset, column):\n",
    "    for row in dataset:\n",
    "        row[column] = float(row[column].strip())\n",
    "\n",
    "# Split a dataset into a train and test set\n",
    "def train_test_split(dataset, split):\n",
    "    train = list()\n",
    "    train_size = split * len(dataset)\n",
    "    dataset_copy = list(dataset)\n",
    "    while len(train) < train_size:\n",
    "        index = randrange(len(dataset_copy))\n",
    "        train.append(dataset_copy.pop(index))\n",
    "    return train, dataset_copy\n",
    "\n",
    "# Calculate root mean squared error\n",
    "def rmse_metric(actual, predicted):\n",
    "    sum_error = 0.0\n",
    "    for i in range(len(actual)):\n",
    "        prediction_error = predicted[i] - actual[i]\n",
    "        sum_error += (prediction_error ** 2)\n",
    "    mean_error = sum_error / float(len(actual))\n",
    "    return sqrt(mean_error)\n",
    "\n",
    "# Evaluate an algorithm using a train/test split\n",
    "def evaluate_algorithm(dataset, algorithm, split, *args):\n",
    "    train, test = train_test_split(dataset, split)\n",
    "    test_set = list()\n",
    "    for row in test:\n",
    "        row_copy = list(row)\n",
    "        row_copy[-1] = None\n",
    "        test_set.append(row_copy)\n",
    "    predicted = algorithm(train, test_set, *args)\n",
    "    actual = [row[-1] for row in test]\n",
    "    rmse = rmse_metric(actual, predicted)\n",
    "    return rmse\n",
    "\n",
    "# Calculate the mean value of a list of numbers\n",
    "def mean(values):\n",
    "    return sum(values) / float(len(values))\n",
    "\n",
    "# Calculate covariance between x and y\n",
    "def covariance(x, mean_x, y, mean_y):\n",
    "    covar = 0.0\n",
    "    for i in range(len(x)):\n",
    "        covar += (x[i] - mean_x) * (y[i] - mean_y)\n",
    "    return covar\n",
    "\n",
    "# Calculate the variance of a list of numbers\n",
    "def variance(values, mean):\n",
    "    return sum([(x-mean)**2 for x in values])\n",
    "\n",
    "# Calculate coefficients\n",
    "def coefficients(dataset):\n",
    "    x = [row[0] for row in dataset]\n",
    "    y = [row[1] for row in dataset]\n",
    "    x_mean, y_mean = mean(x), mean(y)\n",
    "    b1 = covariance(x, x_mean, y, y_mean) / variance(x, x_mean)\n",
    "    b0 = y_mean - b1 * x_mean\n",
    "    return [b0, b1]\n",
    "\n",
    "# Simple linear regression algorithm\n",
    "def simple_linear_regression(train, test):\n",
    "    predictions = list()\n",
    "    b0, b1 = coefficients(train)\n",
    "    for row in test:\n",
    "        yhat = b0 + b1 * row[0]\n",
    "        predictions.append(yhat)\n",
    "    return predictions\n",
    "\n",
    "# Simple linear regression on insurance dataset\n",
    "seed(1)\n",
    "# load and prepare data\n",
    "filename = 'insurance.csv'\n",
    "dataset = load_csv(filename)\n",
    "for i in range(len(dataset[0])):\n",
    "    str_column_to_float(dataset, i)\n",
    "# evaluate algorithm\n",
    "split = 0.8\n",
    "rmse = evaluate_algorithm(dataset, simple_linear_regression, split)\n",
    "print('RMSE: %.3f' % (rmse))"
   ]
  },
  {
   "cell_type": "code",
   "execution_count": 361,
   "id": "74d52eba",
   "metadata": {},
   "outputs": [],
   "source": [
    "import pandas as pd\n",
    "\n",
    "df = pd.read_csv(\"insurance.csv\")"
   ]
  },
  {
   "cell_type": "code",
   "execution_count": 362,
   "id": "50d78f97",
   "metadata": {},
   "outputs": [
    {
     "data": {
      "text/html": [
       "<div>\n",
       "<style scoped>\n",
       "    .dataframe tbody tr th:only-of-type {\n",
       "        vertical-align: middle;\n",
       "    }\n",
       "\n",
       "    .dataframe tbody tr th {\n",
       "        vertical-align: top;\n",
       "    }\n",
       "\n",
       "    .dataframe thead th {\n",
       "        text-align: right;\n",
       "    }\n",
       "</style>\n",
       "<table border=\"1\" class=\"dataframe\">\n",
       "  <thead>\n",
       "    <tr style=\"text-align: right;\">\n",
       "      <th></th>\n",
       "      <th>X</th>\n",
       "      <th>Y</th>\n",
       "    </tr>\n",
       "  </thead>\n",
       "  <tbody>\n",
       "    <tr>\n",
       "      <th>0</th>\n",
       "      <td>108</td>\n",
       "      <td>392.5</td>\n",
       "    </tr>\n",
       "    <tr>\n",
       "      <th>1</th>\n",
       "      <td>19</td>\n",
       "      <td>46.2</td>\n",
       "    </tr>\n",
       "    <tr>\n",
       "      <th>2</th>\n",
       "      <td>13</td>\n",
       "      <td>15.7</td>\n",
       "    </tr>\n",
       "  </tbody>\n",
       "</table>\n",
       "</div>"
      ],
      "text/plain": [
       "     X      Y\n",
       "0  108  392.5\n",
       "1   19   46.2\n",
       "2   13   15.7"
      ]
     },
     "execution_count": 362,
     "metadata": {},
     "output_type": "execute_result"
    }
   ],
   "source": [
    "df.head(3)"
   ]
  },
  {
   "cell_type": "code",
   "execution_count": 363,
   "id": "ee740a50",
   "metadata": {},
   "outputs": [],
   "source": [
    "X = df.iloc[:,:-1].values\n",
    "y = df.iloc[:,1].values"
   ]
  },
  {
   "cell_type": "code",
   "execution_count": 364,
   "id": "55dd6b3e",
   "metadata": {},
   "outputs": [],
   "source": [
    "from sklearn.model_selection import train_test_split\n",
    "\n",
    "X_train, X_test, y_train, y_test = train_test_split(X, y, test_size=0.4, random_state=4)"
   ]
  },
  {
   "cell_type": "code",
   "execution_count": 365,
   "id": "ee709b0a",
   "metadata": {},
   "outputs": [
    {
     "data": {
      "text/html": [
       "<style>#sk-container-id-9 {color: black;background-color: white;}#sk-container-id-9 pre{padding: 0;}#sk-container-id-9 div.sk-toggleable {background-color: white;}#sk-container-id-9 label.sk-toggleable__label {cursor: pointer;display: block;width: 100%;margin-bottom: 0;padding: 0.3em;box-sizing: border-box;text-align: center;}#sk-container-id-9 label.sk-toggleable__label-arrow:before {content: \"▸\";float: left;margin-right: 0.25em;color: #696969;}#sk-container-id-9 label.sk-toggleable__label-arrow:hover:before {color: black;}#sk-container-id-9 div.sk-estimator:hover label.sk-toggleable__label-arrow:before {color: black;}#sk-container-id-9 div.sk-toggleable__content {max-height: 0;max-width: 0;overflow: hidden;text-align: left;background-color: #f0f8ff;}#sk-container-id-9 div.sk-toggleable__content pre {margin: 0.2em;color: black;border-radius: 0.25em;background-color: #f0f8ff;}#sk-container-id-9 input.sk-toggleable__control:checked~div.sk-toggleable__content {max-height: 200px;max-width: 100%;overflow: auto;}#sk-container-id-9 input.sk-toggleable__control:checked~label.sk-toggleable__label-arrow:before {content: \"▾\";}#sk-container-id-9 div.sk-estimator input.sk-toggleable__control:checked~label.sk-toggleable__label {background-color: #d4ebff;}#sk-container-id-9 div.sk-label input.sk-toggleable__control:checked~label.sk-toggleable__label {background-color: #d4ebff;}#sk-container-id-9 input.sk-hidden--visually {border: 0;clip: rect(1px 1px 1px 1px);clip: rect(1px, 1px, 1px, 1px);height: 1px;margin: -1px;overflow: hidden;padding: 0;position: absolute;width: 1px;}#sk-container-id-9 div.sk-estimator {font-family: monospace;background-color: #f0f8ff;border: 1px dotted black;border-radius: 0.25em;box-sizing: border-box;margin-bottom: 0.5em;}#sk-container-id-9 div.sk-estimator:hover {background-color: #d4ebff;}#sk-container-id-9 div.sk-parallel-item::after {content: \"\";width: 100%;border-bottom: 1px solid gray;flex-grow: 1;}#sk-container-id-9 div.sk-label:hover label.sk-toggleable__label {background-color: #d4ebff;}#sk-container-id-9 div.sk-serial::before {content: \"\";position: absolute;border-left: 1px solid gray;box-sizing: border-box;top: 0;bottom: 0;left: 50%;z-index: 0;}#sk-container-id-9 div.sk-serial {display: flex;flex-direction: column;align-items: center;background-color: white;padding-right: 0.2em;padding-left: 0.2em;position: relative;}#sk-container-id-9 div.sk-item {position: relative;z-index: 1;}#sk-container-id-9 div.sk-parallel {display: flex;align-items: stretch;justify-content: center;background-color: white;position: relative;}#sk-container-id-9 div.sk-item::before, #sk-container-id-9 div.sk-parallel-item::before {content: \"\";position: absolute;border-left: 1px solid gray;box-sizing: border-box;top: 0;bottom: 0;left: 50%;z-index: -1;}#sk-container-id-9 div.sk-parallel-item {display: flex;flex-direction: column;z-index: 1;position: relative;background-color: white;}#sk-container-id-9 div.sk-parallel-item:first-child::after {align-self: flex-end;width: 50%;}#sk-container-id-9 div.sk-parallel-item:last-child::after {align-self: flex-start;width: 50%;}#sk-container-id-9 div.sk-parallel-item:only-child::after {width: 0;}#sk-container-id-9 div.sk-dashed-wrapped {border: 1px dashed gray;margin: 0 0.4em 0.5em 0.4em;box-sizing: border-box;padding-bottom: 0.4em;background-color: white;}#sk-container-id-9 div.sk-label label {font-family: monospace;font-weight: bold;display: inline-block;line-height: 1.2em;}#sk-container-id-9 div.sk-label-container {text-align: center;}#sk-container-id-9 div.sk-container {/* jupyter's `normalize.less` sets `[hidden] { display: none; }` but bootstrap.min.css set `[hidden] { display: none !important; }` so we also need the `!important` here to be able to override the default hidden behavior on the sphinx rendered scikit-learn.org. See: https://github.com/scikit-learn/scikit-learn/issues/21755 */display: inline-block !important;position: relative;}#sk-container-id-9 div.sk-text-repr-fallback {display: none;}</style><div id=\"sk-container-id-9\" class=\"sk-top-container\"><div class=\"sk-text-repr-fallback\"><pre>LinearRegression()</pre><b>In a Jupyter environment, please rerun this cell to show the HTML representation or trust the notebook. <br />On GitHub, the HTML representation is unable to render, please try loading this page with nbviewer.org.</b></div><div class=\"sk-container\" hidden><div class=\"sk-item\"><div class=\"sk-estimator sk-toggleable\"><input class=\"sk-toggleable__control sk-hidden--visually\" id=\"sk-estimator-id-9\" type=\"checkbox\" checked><label for=\"sk-estimator-id-9\" class=\"sk-toggleable__label sk-toggleable__label-arrow\">LinearRegression</label><div class=\"sk-toggleable__content\"><pre>LinearRegression()</pre></div></div></div></div></div>"
      ],
      "text/plain": [
       "LinearRegression()"
      ]
     },
     "execution_count": 365,
     "metadata": {},
     "output_type": "execute_result"
    }
   ],
   "source": [
    "from sklearn.linear_model import LinearRegression\n",
    "\n",
    "regression = LinearRegression()\n",
    "regression.fit(X_train,y_train)"
   ]
  },
  {
   "cell_type": "code",
   "execution_count": 366,
   "id": "e813b632",
   "metadata": {},
   "outputs": [
    {
     "data": {
      "text/plain": [
       "array([154.70477387, 104.12562553,  87.26590942,  50.17453398,\n",
       "        33.31481787, 124.35728487, 222.14363831,  43.43064754,\n",
       "        43.43064754, 117.61339842,  97.38173909,  40.05870431,\n",
       "        67.03425009,  56.91842043,  33.31481787, 181.68031964,\n",
       "        29.94287465, 100.75368231,  40.05870431,  36.68676109,\n",
       "        94.00979587,  26.57093143,  46.80259076,  29.94287465,\n",
       "       110.86951198,  43.43064754])"
      ]
     },
     "execution_count": 366,
     "metadata": {},
     "output_type": "execute_result"
    }
   ],
   "source": [
    "y_pred = regression.predict(X_test) \n",
    "y_pred"
   ]
  },
  {
   "cell_type": "code",
   "execution_count": 367,
   "id": "ae2b2e78",
   "metadata": {},
   "outputs": [
    {
     "name": "stdout",
     "output_type": "stream",
     "text": [
      "33.10290863044847\n"
     ]
    }
   ],
   "source": [
    "from sklearn.metrics import mean_squared_error\n",
    "import numpy as np\n",
    "\n",
    "print(np.sqrt(mean_squared_error(y_test,y_pred)))"
   ]
  },
  {
   "cell_type": "code",
   "execution_count": null,
   "id": "a2248126",
   "metadata": {},
   "outputs": [],
   "source": []
  }
 ],
 "metadata": {
  "kernelspec": {
   "display_name": "Python 3 (ipykernel)",
   "language": "python",
   "name": "python3"
  },
  "language_info": {
   "codemirror_mode": {
    "name": "ipython",
    "version": 3
   },
   "file_extension": ".py",
   "mimetype": "text/x-python",
   "name": "python",
   "nbconvert_exporter": "python",
   "pygments_lexer": "ipython3",
   "version": "3.9.7"
  }
 },
 "nbformat": 4,
 "nbformat_minor": 5
}
