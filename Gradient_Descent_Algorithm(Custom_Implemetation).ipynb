{
 "cells": [
  {
   "cell_type": "code",
   "execution_count": 1,
   "id": "7b86a771",
   "metadata": {},
   "outputs": [],
   "source": [
    "# Importing Libraries\n",
    "import numpy as np\n",
    "import matplotlib.pyplot as plt\n",
    "%matplotlib inline"
   ]
  },
  {
   "cell_type": "code",
   "execution_count": 2,
   "id": "fda9ab5a",
   "metadata": {},
   "outputs": [],
   "source": [
    "# Cost Function\n",
    "def mean_squared_error(y_true,y_predicted):\n",
    "    # Calculating the loss or cost\n",
    "    cost = np.sum((y_true - y_predicted)**2) / len(y_true)\n",
    "    return cost"
   ]
  },
  {
   "cell_type": "code",
   "execution_count": 13,
   "id": "a4136075",
   "metadata": {},
   "outputs": [],
   "source": [
    "# Gradient Descent Function\n",
    "# Here iterations, learning_rate, stopping_threshold\n",
    "# are hyperparameters that can be tuned\n",
    "def gradient_descent(x, y, iterations= 1000, learning_rate= 0.0001, stopping_threshold= 1e-6):\n",
    "    \n",
    "    # Initializing slope, intercept, learninng rate and iterations\n",
    "    current_slope = 0.1\n",
    "    current_intercept = 0.01\n",
    "    iterations = iterations\n",
    "    learning_rate = learning_rate\n",
    "    n = float(len(x))\n",
    "    \n",
    "    costs = []\n",
    "    slopes = []\n",
    "    previous_cost = None\n",
    "    \n",
    "    # Estimation of optimal parameters\n",
    "    for i in range(iterations):\n",
    "        \n",
    "        # Making predictions\n",
    "        y_predicted = (current_slope * x) + current_intercept\n",
    "        \n",
    "        # Calculating the Current Cost\n",
    "        current_cost = mean_squared_error(y, y_predicted)\n",
    "        \n",
    "        # If the change in cost is less than or equal to\n",
    "        # stopping_threshold we stop the gradient descent\n",
    "        if previous_cost and (previous_cost - current_cost) <= stopping_threshold:\n",
    "            break\n",
    "            \n",
    "        previous_cost = current_cost\n",
    "        \n",
    "        costs.append(current_cost)\n",
    "        slopes.append(current_slope)\n",
    "        \n",
    "        # Calculating the gradients\n",
    "        slope_derivative = (2/n) * sum(x * (y_predicted - y))\n",
    "        intercept_derivative = (2/n) * sum(y_predicted - y)\n",
    "        \n",
    "        # Updating Slopes and intercepts\n",
    "        current_slope = current_slope - (learning_rate * slope_derivative)\n",
    "        current_intercept = current_intercept - (learning_rate * intercept_derivative)\n",
    "        \n",
    "        # Printing the parameters fr each 1000th iterations\n",
    "        print(f\"Iteration {i+1}: Cost: {current_cost}, Slope: {current_slope}, Intercept: {current_intercept}\")\n",
    "        \n",
    "    \n",
    "    # Visualizing the slope and cost at for all iterations\n",
    "    plt.figure(figsize=(8,6))\n",
    "    plt.plot(slopes, costs)\n",
    "    plt.scatter(slopes, costs, marker='o', color='red')\n",
    "    plt.title(\"Cost vs Slopes\")\n",
    "    plt.ylabel(\"Cost\")\n",
    "    plt.xlabel(\"Slopes\")\n",
    "    plt.show()\n",
    "    \n",
    "    return current_slope, current_intercept"
   ]
  },
  {
   "cell_type": "code",
   "execution_count": 14,
   "id": "e8462c36",
   "metadata": {},
   "outputs": [],
   "source": [
    "# Data\n",
    "X = np.array([32.50234527, 53.42680403, 61.53035803, 47.47563963, 59.81320787,\n",
    "           55.14218841, 52.21179669, 39.29956669, 48.10504169, 52.55001444,\n",
    "           45.41973014, 54.35163488, 44.1640495 , 58.16847072, 56.72720806,\n",
    "           48.95588857, 44.68719623, 60.29732685, 45.61864377, 38.81681754])\n",
    "Y = np.array([31.70700585, 68.77759598, 62.5623823 , 71.54663223, 87.23092513,\n",
    "           78.21151827, 79.64197305, 59.17148932, 75.3312423 , 71.30087989,\n",
    "           55.16567715, 82.47884676, 62.00892325, 75.39287043, 81.43619216,\n",
    "           60.72360244, 82.89250373, 97.37989686, 48.84715332, 56.87721319])\n",
    "    \n",
    "    "
   ]
  },
  {
   "cell_type": "code",
   "execution_count": 15,
   "id": "ad77e8fc",
   "metadata": {},
   "outputs": [
    {
     "name": "stdout",
     "output_type": "stream",
     "text": [
      "Iteration 1: Cost: 4352.088931274409, Slope: 0.7593291142562117, Intercept: 0.02288558130709\n",
      "Iteration 2: Cost: 1114.8561474350017, Slope: 1.081602958862324, Intercept: 0.02918014748569513\n",
      "Iteration 3: Cost: 341.42912086804455, Slope: 1.2391274084945083, Intercept: 0.03225308846928192\n",
      "Iteration 4: Cost: 156.64495290904443, Slope: 1.3161239281746984, Intercept: 0.03375132986012604\n",
      "Iteration 5: Cost: 112.49704004742098, Slope: 1.3537591652024805, Intercept: 0.034479873154934775\n",
      "Iteration 6: Cost: 101.9493925395456, Slope: 1.3721549833978113, Intercept: 0.034832195392868505\n",
      "Iteration 7: Cost: 99.4293893333546, Slope: 1.3811467575154601, Intercept: 0.03500062439068245\n",
      "Iteration 8: Cost: 98.82731958262897, Slope: 1.3855419247507244, Intercept: 0.03507916814736111\n",
      "Iteration 9: Cost: 98.68347500997261, Slope: 1.3876903144657764, Intercept: 0.035113776874486774\n",
      "Iteration 10: Cost: 98.64910780902792, Slope: 1.3887405007983562, Intercept: 0.035126910596389935\n",
      "Iteration 11: Cost: 98.64089651459352, Slope: 1.389253895811451, Intercept: 0.03512954755833985\n",
      "Iteration 12: Cost: 98.63893428729509, Slope: 1.38950491235671, Intercept: 0.035127053821718185\n",
      "Iteration 13: Cost: 98.63846506273883, Slope: 1.3896276808137857, Intercept: 0.035122052266051224\n",
      "Iteration 14: Cost: 98.63835254057648, Slope: 1.38968776283053, Intercept: 0.03511582492978764\n",
      "Iteration 15: Cost: 98.63832524036214, Slope: 1.3897172043139192, Intercept: 0.03510899846107016\n",
      "Iteration 16: Cost: 98.63831830104695, Slope: 1.389731668997059, Intercept: 0.035101879159522745\n",
      "Iteration 17: Cost: 98.63831622628217, Slope: 1.389738813163012, Intercept: 0.03509461674147458\n"
     ]
    },
    {
     "data": {
      "image/png": "[encoded data removed]",
      "text/plain": [
       "<Figure size 576x432 with 1 Axes>"
      ]
     },
     "metadata": {
      "needs_background": "light"
     },
     "output_type": "display_data"
    },
    {
     "name": "stdout",
     "output_type": "stream",
     "text": [
      "Estimated Slope: 1.389738813163012 Estimated Intercept: 0.03509461674147458\n"
     ]
    }
   ],
   "source": [
    "# Estimating slope and intercept using gradient descent\n",
    "estimated_slope, estimated_intercept = gradient_descent(X,Y,iterations=2000)\n",
    "print(f\"Estimated Slope: {estimated_slope} Estimated Intercept: {estimated_intercept}\")"
   ]
  },
  {
   "cell_type": "code",
   "execution_count": 16,
   "id": "edbaef53",
   "metadata": {},
   "outputs": [],
   "source": [
    "# Making predictions using estimated parameters\n",
    "Y_pred = estimated_slope*X + estimated_intercept"
   ]
  },
  {
   "cell_type": "code",
   "execution_count": 17,
   "id": "53757c52",
   "metadata": {},
   "outputs": [
    {
     "data": {
      "image/png": "[encoded data removed]",
      "text/plain": [
       "<Figure size 576x432 with 1 Axes>"
      ]
     },
     "metadata": {
      "needs_background": "light"
     },
     "output_type": "display_data"
    }
   ],
   "source": [
    "# Plotting the regression line\n",
    "plt.figure(figsize = (8,6))\n",
    "plt.scatter(X, Y, marker='o', color='red')\n",
    "plt.plot([min(X), max(X)], [min(Y_pred), max(Y_pred)], color='blue',markerfacecolor='red',markersize=10,linestyle='dashed')\n",
    "plt.xlabel(\"X\")\n",
    "plt.ylabel(\"Y\")\n",
    "plt.show()"
   ]
  },
  {
   "cell_type": "code",
   "execution_count": null,
   "id": "e83072eb",
   "metadata": {},
   "outputs": [],
   "source": []
  }
 ],
 "metadata": {
  "kernelspec": {
   "display_name": "Python 3 (ipykernel)",
   "language": "python",
   "name": "python3"
  },
  "language_info": {
   "codemirror_mode": {
    "name": "ipython",
    "version": 3
   },
   "file_extension": ".py",
   "mimetype": "text/x-python",
   "name": "python",
   "nbconvert_exporter": "python",
   "pygments_lexer": "ipython3",
   "version": "3.9.7"
  }
 },
 "nbformat": 4,
 "nbformat_minor": 5
}
