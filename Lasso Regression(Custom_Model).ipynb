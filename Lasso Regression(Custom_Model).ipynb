{
 "cells": [
  {
   "cell_type": "code",
   "execution_count": 2,
   "id": "341c1e02",
   "metadata": {},
   "outputs": [],
   "source": [
    "# Importing libraries\n",
    "import numpy as np\n",
    "import pandas as pd\n",
    "from sklearn.model_selection import train_test_split\n",
    "import matplotlib.pyplot as plt\n",
    "%matplotlib inline"
   ]
  },
  {
   "cell_type": "code",
   "execution_count": 3,
   "id": "a0855ddf",
   "metadata": {},
   "outputs": [],
   "source": [
    "# Lasso Regression\n",
    "class LassoRegression():\n",
    "    \n",
    "    def __init__(self, learning_rate, iterations, l1_penality):\n",
    "        \n",
    "        self.learning_rate = learning_rate\n",
    "        self.iterations = iterations\n",
    "        self.l1_penality = l1_penality\n",
    "        \n",
    "    # Function For Model Training\n",
    "    def fit(self, X, Y):\n",
    "        \n",
    "        # no_of_training_examples, no_of_features\n",
    "        self.m, self.n = X.shape\n",
    "        \n",
    "        # slope initialization\n",
    "        self.slope = np.zeros(self.n)\n",
    "        \n",
    "        self.intercept = 0\n",
    "        self.X = X\n",
    "        self.Y = Y\n",
    "        \n",
    "        # gradient descent learning\n",
    "        for i in range(self.iterations):\n",
    "            self.update_slope_intercept()\n",
    "            \n",
    "        return self\n",
    "    \n",
    "    \n",
    "    # Helper function to update slope and intercept in gradient descent\n",
    "    def update_slope_intercept(self):\n",
    "        Y_pred = self.predict(self.X)\n",
    "        \n",
    "        # Calculate Gradients\n",
    "        slope_derivative = np.zeros(self.n)\n",
    "        \n",
    "        for j in range(self.n):\n",
    "            \n",
    "            if self.slope[j] > 0:\n",
    "                \n",
    "                slope_derivative[j] = (- (2 * (self.X[:,j]).dot(self.Y - Y_pred) + self.l1_penality)) / self.m\n",
    "                \n",
    "            else:\n",
    "                \n",
    "                slope_derivative[j] = (- (2 * (self.X[:,j]).dot(self.Y - Y_pred) - self.l1_penality)) / self.m\n",
    "                \n",
    "                \n",
    "        intercept_derivative = -2 * np.sum(self.Y - Y_pred) / self.m\n",
    "        \n",
    "        # Update slope and intercept\n",
    "        self.slope = self.slope - self.learning_rate * slope_derivative\n",
    "        self.intercept = self.intercept - self.learning_rate * intercept_derivative\n",
    "        \n",
    "        return self\n",
    "    \n",
    "    # Hypothetical Function\n",
    "    def predict(self, X):\n",
    "        return X.dot(self.slope) + self.intercept\n",
    "    "
   ]
  },
  {
   "cell_type": "code",
   "execution_count": 4,
   "id": "f94677dc",
   "metadata": {},
   "outputs": [],
   "source": [
    "# Cost Function\n",
    "def mean_squared_error(y_true,y_predicted):\n",
    "    # Calculating the loss or cost\n",
    "    cost = np.sum((y_true - y_predicted)**2) / len(y_true)\n",
    "    return cost"
   ]
  },
  {
   "cell_type": "code",
   "execution_count": 5,
   "id": "724878df",
   "metadata": {},
   "outputs": [],
   "source": [
    "# Driver Code\n",
    "def main():\n",
    "    \n",
    "    # Importing Dataset\n",
    "    df = pd.read_csv(\"https://raw.githubusercontent.com/mohit-baliyan/references/master/salary_data.csv\")\n",
    "    X = df.iloc[:,:-1].values\n",
    "    Y = df.iloc[:,1].values\n",
    "    \n",
    "    # Splitting dataset into train and test set\n",
    "    X_train, X_test, Y_train, Y_test = train_test_split(X,Y,test_size=1/3,random_state=0)\n",
    "    \n",
    "    # Model Training\n",
    "    model = LassoRegression(learning_rate=0.01, iterations=1000, l1_penality=500)\n",
    "    model.fit(X_train,Y_train)\n",
    "    \n",
    "    # Prediction on test set\n",
    "    Y_pred = model.predict(X_test)\n",
    "    print(\"Predicted Values:\",np.round( Y_pred[:3],2 ) )\n",
    "    print(\"Real Values:\",Y_test[:3])\n",
    "    print(\"Trained Slope:\",np.round(model.slope[0],2))\n",
    "    print(\"Trained Intercept:\",np.round(model.intercept,2))\n",
    "    print(\"Mean Squared Error(MSE)\",mean_squared_error(Y_test,Y_pred))\n",
    "    \n",
    "    # Visualization on Test Set\n",
    "    plt.scatter(X_test, Y_test, color = 'blue')    \n",
    "    plt.plot(X_test, Y_pred, color = 'orange')    \n",
    "    plt.title('Salary vs Experience')    \n",
    "    plt.xlabel('Years of Experience')    \n",
    "    plt.ylabel('Salary')    \n",
    "    plt.show()"
   ]
  },
  {
   "cell_type": "code",
   "execution_count": 6,
   "id": "c42694f0",
   "metadata": {},
   "outputs": [
    {
     "name": "stdout",
     "output_type": "stream",
     "text": [
      "Predicted Values: [ 40588.48 123315.96  65030.69]\n",
      "Real Values: [ 37731 122391  57081]\n",
      "Trained Slope: 9400.85\n",
      "Trained Intercept: 26487.2\n",
      "Mean Squared Error(MSE) 20680291.701482303\n"
     ]
    },
    {
     "data": {
      "image/png": "[encoded data removed]",
      "text/plain": [
       "<Figure size 432x288 with 1 Axes>"
      ]
     },
     "metadata": {
      "needs_background": "light"
     },
     "output_type": "display_data"
    }
   ],
   "source": [
    "main()"
   ]
  },
  {
   "cell_type": "markdown",
   "id": "3f462657",
   "metadata": {},
   "source": [
    "### Lasso Regression Using Sklearn"
   ]
  },
  {
   "cell_type": "code",
   "execution_count": 9,
   "id": "065c2f0e",
   "metadata": {},
   "outputs": [],
   "source": [
    "# Importing Dataset\n",
    "df = pd.read_csv(\"https://raw.githubusercontent.com/mohit-baliyan/references/master/salary_data.csv\")\n",
    "X = df.iloc[:,:-1].values\n",
    "Y = df.iloc[:,1].values"
   ]
  },
  {
   "cell_type": "code",
   "execution_count": 10,
   "id": "5be5ef8c",
   "metadata": {},
   "outputs": [],
   "source": [
    "# Splitting dataset into train and test set\n",
    "X_train, X_test, Y_train, Y_test = train_test_split(X,Y,test_size=1/3,random_state=0)"
   ]
  },
  {
   "cell_type": "code",
   "execution_count": 11,
   "id": "b65cbd9d",
   "metadata": {},
   "outputs": [],
   "source": [
    "# Lasso\n",
    "from sklearn.linear_model import Lasso\n",
    "lasso = Lasso()"
   ]
  },
  {
   "cell_type": "code",
   "execution_count": 12,
   "id": "6b2ac567",
   "metadata": {},
   "outputs": [
    {
     "data": {
      "text/html": [
       "<style>#sk-container-id-1 {color: black;background-color: white;}#sk-container-id-1 pre{padding: 0;}#sk-container-id-1 div.sk-toggleable {background-color: white;}#sk-container-id-1 label.sk-toggleable__label {cursor: pointer;display: block;width: 100%;margin-bottom: 0;padding: 0.3em;box-sizing: border-box;text-align: center;}#sk-container-id-1 label.sk-toggleable__label-arrow:before {content: \"▸\";float: left;margin-right: 0.25em;color: #696969;}#sk-container-id-1 label.sk-toggleable__label-arrow:hover:before {color: black;}#sk-container-id-1 div.sk-estimator:hover label.sk-toggleable__label-arrow:before {color: black;}#sk-container-id-1 div.sk-toggleable__content {max-height: 0;max-width: 0;overflow: hidden;text-align: left;background-color: #f0f8ff;}#sk-container-id-1 div.sk-toggleable__content pre {margin: 0.2em;color: black;border-radius: 0.25em;background-color: #f0f8ff;}#sk-container-id-1 input.sk-toggleable__control:checked~div.sk-toggleable__content {max-height: 200px;max-width: 100%;overflow: auto;}#sk-container-id-1 input.sk-toggleable__control:checked~label.sk-toggleable__label-arrow:before {content: \"▾\";}#sk-container-id-1 div.sk-estimator input.sk-toggleable__control:checked~label.sk-toggleable__label {background-color: #d4ebff;}#sk-container-id-1 div.sk-label input.sk-toggleable__control:checked~label.sk-toggleable__label {background-color: #d4ebff;}#sk-container-id-1 input.sk-hidden--visually {border: 0;clip: rect(1px 1px 1px 1px);clip: rect(1px, 1px, 1px, 1px);height: 1px;margin: -1px;overflow: hidden;padding: 0;position: absolute;width: 1px;}#sk-container-id-1 div.sk-estimator {font-family: monospace;background-color: #f0f8ff;border: 1px dotted black;border-radius: 0.25em;box-sizing: border-box;margin-bottom: 0.5em;}#sk-container-id-1 div.sk-estimator:hover {background-color: #d4ebff;}#sk-container-id-1 div.sk-parallel-item::after {content: \"\";width: 100%;border-bottom: 1px solid gray;flex-grow: 1;}#sk-container-id-1 div.sk-label:hover label.sk-toggleable__label {background-color: #d4ebff;}#sk-container-id-1 div.sk-serial::before {content: \"\";position: absolute;border-left: 1px solid gray;box-sizing: border-box;top: 0;bottom: 0;left: 50%;z-index: 0;}#sk-container-id-1 div.sk-serial {display: flex;flex-direction: column;align-items: center;background-color: white;padding-right: 0.2em;padding-left: 0.2em;position: relative;}#sk-container-id-1 div.sk-item {position: relative;z-index: 1;}#sk-container-id-1 div.sk-parallel {display: flex;align-items: stretch;justify-content: center;background-color: white;position: relative;}#sk-container-id-1 div.sk-item::before, #sk-container-id-1 div.sk-parallel-item::before {content: \"\";position: absolute;border-left: 1px solid gray;box-sizing: border-box;top: 0;bottom: 0;left: 50%;z-index: -1;}#sk-container-id-1 div.sk-parallel-item {display: flex;flex-direction: column;z-index: 1;position: relative;background-color: white;}#sk-container-id-1 div.sk-parallel-item:first-child::after {align-self: flex-end;width: 50%;}#sk-container-id-1 div.sk-parallel-item:last-child::after {align-self: flex-start;width: 50%;}#sk-container-id-1 div.sk-parallel-item:only-child::after {width: 0;}#sk-container-id-1 div.sk-dashed-wrapped {border: 1px dashed gray;margin: 0 0.4em 0.5em 0.4em;box-sizing: border-box;padding-bottom: 0.4em;background-color: white;}#sk-container-id-1 div.sk-label label {font-family: monospace;font-weight: bold;display: inline-block;line-height: 1.2em;}#sk-container-id-1 div.sk-label-container {text-align: center;}#sk-container-id-1 div.sk-container {/* jupyter's `normalize.less` sets `[hidden] { display: none; }` but bootstrap.min.css set `[hidden] { display: none !important; }` so we also need the `!important` here to be able to override the default hidden behavior on the sphinx rendered scikit-learn.org. See: https://github.com/scikit-learn/scikit-learn/issues/21755 */display: inline-block !important;position: relative;}#sk-container-id-1 div.sk-text-repr-fallback {display: none;}</style><div id=\"sk-container-id-1\" class=\"sk-top-container\"><div class=\"sk-text-repr-fallback\"><pre>Lasso()</pre><b>In a Jupyter environment, please rerun this cell to show the HTML representation or trust the notebook. <br />On GitHub, the HTML representation is unable to render, please try loading this page with nbviewer.org.</b></div><div class=\"sk-container\" hidden><div class=\"sk-item\"><div class=\"sk-estimator sk-toggleable\"><input class=\"sk-toggleable__control sk-hidden--visually\" id=\"sk-estimator-id-1\" type=\"checkbox\" checked><label for=\"sk-estimator-id-1\" class=\"sk-toggleable__label sk-toggleable__label-arrow\">Lasso</label><div class=\"sk-toggleable__content\"><pre>Lasso()</pre></div></div></div></div></div>"
      ],
      "text/plain": [
       "Lasso()"
      ]
     },
     "execution_count": 12,
     "metadata": {},
     "output_type": "execute_result"
    }
   ],
   "source": [
    "lasso.fit(X_train,Y_train)"
   ]
  },
  {
   "cell_type": "code",
   "execution_count": 13,
   "id": "b21777f9",
   "metadata": {},
   "outputs": [],
   "source": [
    "lasso_pred=lasso.predict(X_test)"
   ]
  },
  {
   "cell_type": "code",
   "execution_count": 14,
   "id": "90671371",
   "metadata": {},
   "outputs": [
    {
     "name": "stdout",
     "output_type": "stream",
     "text": [
      "21026538.74622962\n"
     ]
    }
   ],
   "source": [
    "from sklearn.metrics import mean_squared_error\n",
    "print(mean_squared_error(Y_test,lasso_pred))"
   ]
  },
  {
   "cell_type": "code",
   "execution_count": null,
   "id": "4314d24d",
   "metadata": {},
   "outputs": [],
   "source": []
  }
 ],
 "metadata": {
  "kernelspec": {
   "display_name": "Python 3 (ipykernel)",
   "language": "python",
   "name": "python3"
  },
  "language_info": {
   "codemirror_mode": {
    "name": "ipython",
    "version": 3
   },
   "file_extension": ".py",
   "mimetype": "text/x-python",
   "name": "python",
   "nbconvert_exporter": "python",
   "pygments_lexer": "ipython3",
   "version": "3.9.7"
  }
 },
 "nbformat": 4,
 "nbformat_minor": 5
}
