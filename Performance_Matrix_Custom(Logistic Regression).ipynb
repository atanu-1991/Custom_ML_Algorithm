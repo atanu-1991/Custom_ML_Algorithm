{
 "cells": [
  {
   "cell_type": "markdown",
   "id": "f4a9783c",
   "metadata": {},
   "source": [
    "### Performance Metrics:-\n",
    "1. Confusion Matrix\n",
    "2. Precision\n",
    "3. Recall\n",
    "4. F-Beta Score\n",
    "5. Accuracy"
   ]
  },
  {
   "cell_type": "markdown",
   "id": "33eba988",
   "metadata": {},
   "source": [
    "#### 1.Confusion Metrics"
   ]
  },
  {
   "cell_type": "code",
   "execution_count": 1,
   "id": "1273d155",
   "metadata": {},
   "outputs": [],
   "source": [
    "def confusion_matrix(y_true,y_pred):\n",
    "    \n",
    "    tp = 0\n",
    "    fp = 0\n",
    "    fn = 0\n",
    "    tn = 0\n",
    "    for i,j in zip(y_true,y_pred):\n",
    "        \n",
    "        if i==1 and j==1:\n",
    "            tp = tp + 1\n",
    "        elif i==0 and j==0:\n",
    "            tn = tn + 1\n",
    "        elif i==0 and j==1:\n",
    "            fp = fp + 1\n",
    "        elif i==1 and j==0:\n",
    "            fn = fn + 1\n",
    "    return tp,fp,fn,tn"
   ]
  },
  {
   "cell_type": "markdown",
   "id": "d195116f",
   "metadata": {},
   "source": [
    "#### 2. Accuracy"
   ]
  },
  {
   "cell_type": "code",
   "execution_count": 3,
   "id": "a5dbd22f",
   "metadata": {},
   "outputs": [],
   "source": [
    "# acc = tp+tn / tp+fp+fn+tn\n",
    "def accuracy(y_true,y_pred):\n",
    "    tp = 0\n",
    "    fp = 0\n",
    "    fn = 0\n",
    "    tn = 0\n",
    "    for i,j in zip(y_true,y_pred):\n",
    "        \n",
    "        if i==1 and j==1:\n",
    "            tp = tp + 1\n",
    "        elif i==0 and j==0:\n",
    "            tn = tn + 1\n",
    "        elif i==0 and j==1:\n",
    "            fp = fp + 1\n",
    "        elif i==1 and j==0:\n",
    "            fn = fn + 1\n",
    "    acc = (tp + tn) / (tp + fp + fn + tn)\n",
    "    return acc"
   ]
  },
  {
   "cell_type": "markdown",
   "id": "f510e36f",
   "metadata": {},
   "source": [
    "#### 3. Precision"
   ]
  },
  {
   "cell_type": "code",
   "execution_count": 4,
   "id": "48854fed",
   "metadata": {},
   "outputs": [],
   "source": [
    "#prec = tp/tp+fp\n",
    "def precision(y_true,y_pred):\n",
    "    tp = 0\n",
    "    fp = 0\n",
    "    fn = 0\n",
    "    tn = 0\n",
    "    for i,j in zip(y_true,y_pred):\n",
    "        \n",
    "        if i==1 and j==1:\n",
    "            tp = tp + 1\n",
    "        elif i==0 and j==0:\n",
    "            tn = tn + 1\n",
    "        elif i==0 and j==1:\n",
    "            fp = fp + 1\n",
    "        elif i==1 and j==0:\n",
    "            fn = fn + 1\n",
    "    prec = tp / (tp + fp)\n",
    "    return prec"
   ]
  },
  {
   "cell_type": "markdown",
   "id": "49ab944f",
   "metadata": {},
   "source": [
    "#### 4.Recall"
   ]
  },
  {
   "cell_type": "code",
   "execution_count": 5,
   "id": "bc25e540",
   "metadata": {},
   "outputs": [],
   "source": [
    "#recall = tp/tp+fn\n",
    "def recall(y_true,y_pred):\n",
    "    tp = 0\n",
    "    fp = 0\n",
    "    fn = 0\n",
    "    tn = 0\n",
    "    for i,j in zip(y_true,y_pred):\n",
    "        \n",
    "        if i==1 and j==1:\n",
    "            tp = tp + 1\n",
    "        elif i==0 and j==0:\n",
    "            tn = tn + 1\n",
    "        elif i==0 and j==1:\n",
    "            fp = fp + 1\n",
    "        elif i==1 and j==0:\n",
    "            fn = fn + 1\n",
    "    rec = tp / (tp + fn)\n",
    "    return rec"
   ]
  },
  {
   "cell_type": "markdown",
   "id": "d2e5adfc",
   "metadata": {},
   "source": [
    "#### 5.F-Beta Score"
   ]
  },
  {
   "cell_type": "code",
   "execution_count": 6,
   "id": "6357e96c",
   "metadata": {},
   "outputs": [],
   "source": [
    "def f_beta_score(y_true, y_pred, beta):\n",
    "    tp = 0\n",
    "    fp = 0\n",
    "    fn = 0\n",
    "    tn = 0\n",
    "    for i,j in zip(y_true,y_pred):\n",
    "        \n",
    "        if i==1 and j==1:\n",
    "            tp = tp + 1\n",
    "        elif i==0 and j==0:\n",
    "            tn = tn + 1\n",
    "        elif i==0 and j==1:\n",
    "            fp = fp + 1\n",
    "        elif i==1 and j==0:\n",
    "            fn = fn + 1\n",
    "    precision = tp / (tp + fp)\n",
    "    recall = tp / (tp + fn)\n",
    "    f_beta = ((1 + (beta ** 2)) * precision * recall) / (((beta ** 2) * precision)) + recall\n",
    "    return f_beta"
   ]
  },
  {
   "cell_type": "markdown",
   "id": "8c94d10e",
   "metadata": {},
   "source": [
    "#### 6. Accuracy Score Alternate Method"
   ]
  },
  {
   "cell_type": "code",
   "execution_count": 7,
   "id": "3547b6dd",
   "metadata": {},
   "outputs": [],
   "source": [
    "def accuracy(y_true,y_pred):\n",
    "    correct = 0\n",
    "    for i in range(len(y_true)):\n",
    "        if y_true[i] == y_pred[i]:\n",
    "            correct = correct + 1\n",
    "    return correct / float(len(y_true)) * 100.0"
   ]
  },
  {
   "cell_type": "code",
   "execution_count": null,
   "id": "79f1e517",
   "metadata": {},
   "outputs": [],
   "source": []
  }
 ],
 "metadata": {
  "kernelspec": {
   "display_name": "Python 3 (ipykernel)",
   "language": "python",
   "name": "python3"
  },
  "language_info": {
   "codemirror_mode": {
    "name": "ipython",
    "version": 3
   },
   "file_extension": ".py",
   "mimetype": "text/x-python",
   "name": "python",
   "nbconvert_exporter": "python",
   "pygments_lexer": "ipython3",
   "version": "3.9.7"
  }
 },
 "nbformat": 4,
 "nbformat_minor": 5
}
