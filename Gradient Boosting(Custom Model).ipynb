{
 "cells": [
  {
   "cell_type": "code",
   "execution_count": 1,
   "id": "86bbf174",
   "metadata": {},
   "outputs": [],
   "source": [
    "import numpy as np\n",
    "import pandas as pd\n",
    "import matplotlib.pyplot as plt \n",
    "%matplotlib inline\n",
    "\n",
    "from sklearn.tree import DecisionTreeRegressor\n",
    "from sklearn.tree import plot_tree"
   ]
  },
  {
   "cell_type": "code",
   "execution_count": 2,
   "id": "49b2d0a2",
   "metadata": {},
   "outputs": [],
   "source": [
    "rng = np.random.default_rng()"
   ]
  },
  {
   "cell_type": "code",
   "execution_count": 3,
   "id": "52e44eb0",
   "metadata": {},
   "outputs": [],
   "source": [
    "x = np.linspace(0, 10, 50)"
   ]
  },
  {
   "cell_type": "code",
   "execution_count": 9,
   "id": "62c7b59d",
   "metadata": {},
   "outputs": [
    {
     "data": {
      "text/plain": [
       "array([ 0.        ,  0.20408163,  0.40816327,  0.6122449 ,  0.81632653,\n",
       "        1.02040816,  1.2244898 ,  1.42857143,  1.63265306,  1.83673469,\n",
       "        2.04081633,  2.24489796,  2.44897959,  2.65306122,  2.85714286,\n",
       "        3.06122449,  3.26530612,  3.46938776,  3.67346939,  3.87755102,\n",
       "        4.08163265,  4.28571429,  4.48979592,  4.69387755,  4.89795918,\n",
       "        5.10204082,  5.30612245,  5.51020408,  5.71428571,  5.91836735,\n",
       "        6.12244898,  6.32653061,  6.53061224,  6.73469388,  6.93877551,\n",
       "        7.14285714,  7.34693878,  7.55102041,  7.75510204,  7.95918367,\n",
       "        8.16326531,  8.36734694,  8.57142857,  8.7755102 ,  8.97959184,\n",
       "        9.18367347,  9.3877551 ,  9.59183673,  9.79591837, 10.        ])"
      ]
     },
     "execution_count": 9,
     "metadata": {},
     "output_type": "execute_result"
    }
   ],
   "source": [
    "x"
   ]
  },
  {
   "cell_type": "code",
   "execution_count": 5,
   "id": "134a302d",
   "metadata": {},
   "outputs": [],
   "source": [
    "y = np.where(x < 5, x, 5) + rng.normal(0, 0.4, size=x.shape)"
   ]
  },
  {
   "cell_type": "code",
   "execution_count": 10,
   "id": "03c5ab8b",
   "metadata": {},
   "outputs": [
    {
     "data": {
      "text/plain": [
       "array([0.24197601, 0.57035657, 0.42736732, 0.20101244, 1.23287936,\n",
       "       0.61754856, 0.90487587, 0.94269056, 1.47861841, 1.91061057,\n",
       "       2.78055274, 2.16780996, 1.84409386, 2.19146922, 3.43613902,\n",
       "       2.70681817, 3.10188017, 3.52685639, 4.2807913 , 3.56521853,\n",
       "       3.322414  , 4.11987139, 5.02207701, 4.71892784, 4.62581759,\n",
       "       5.70968221, 5.10481504, 4.70138597, 4.36059289, 5.11475939,\n",
       "       5.43249614, 4.65373064, 5.6371159 , 5.41752629, 5.20737435,\n",
       "       4.92337648, 4.92638771, 4.86204544, 4.64326432, 5.50816124,\n",
       "       5.11253515, 5.34184918, 4.77752245, 4.96219456, 4.9069674 ,\n",
       "       4.85042563, 4.48343092, 4.99509528, 5.67725176, 4.83760189])"
      ]
     },
     "execution_count": 10,
     "metadata": {},
     "output_type": "execute_result"
    }
   ],
   "source": [
    "y"
   ]
  },
  {
   "cell_type": "code",
   "execution_count": 11,
   "id": "914a93c5",
   "metadata": {},
   "outputs": [],
   "source": [
    "x = x.reshape(-1,1)"
   ]
  },
  {
   "cell_type": "code",
   "execution_count": 38,
   "id": "46b4aae9",
   "metadata": {},
   "outputs": [
    {
     "data": {
      "text/plain": [
       "array([[ 0.        ],\n",
       "       [ 0.20408163],\n",
       "       [ 0.40816327],\n",
       "       [ 0.6122449 ],\n",
       "       [ 0.81632653],\n",
       "       [ 1.02040816],\n",
       "       [ 1.2244898 ],\n",
       "       [ 1.42857143],\n",
       "       [ 1.63265306],\n",
       "       [ 1.83673469],\n",
       "       [ 2.04081633],\n",
       "       [ 2.24489796],\n",
       "       [ 2.44897959],\n",
       "       [ 2.65306122],\n",
       "       [ 2.85714286],\n",
       "       [ 3.06122449],\n",
       "       [ 3.26530612],\n",
       "       [ 3.46938776],\n",
       "       [ 3.67346939],\n",
       "       [ 3.87755102],\n",
       "       [ 4.08163265],\n",
       "       [ 4.28571429],\n",
       "       [ 4.48979592],\n",
       "       [ 4.69387755],\n",
       "       [ 4.89795918],\n",
       "       [ 5.10204082],\n",
       "       [ 5.30612245],\n",
       "       [ 5.51020408],\n",
       "       [ 5.71428571],\n",
       "       [ 5.91836735],\n",
       "       [ 6.12244898],\n",
       "       [ 6.32653061],\n",
       "       [ 6.53061224],\n",
       "       [ 6.73469388],\n",
       "       [ 6.93877551],\n",
       "       [ 7.14285714],\n",
       "       [ 7.34693878],\n",
       "       [ 7.55102041],\n",
       "       [ 7.75510204],\n",
       "       [ 7.95918367],\n",
       "       [ 8.16326531],\n",
       "       [ 8.36734694],\n",
       "       [ 8.57142857],\n",
       "       [ 8.7755102 ],\n",
       "       [ 8.97959184],\n",
       "       [ 9.18367347],\n",
       "       [ 9.3877551 ],\n",
       "       [ 9.59183673],\n",
       "       [ 9.79591837],\n",
       "       [10.        ]])"
      ]
     },
     "execution_count": 38,
     "metadata": {},
     "output_type": "execute_result"
    }
   ],
   "source": [
    "x"
   ]
  },
  {
   "cell_type": "code",
   "execution_count": 14,
   "id": "93cf78fd",
   "metadata": {},
   "outputs": [
    {
     "data": {
      "text/plain": [
       "[<matplotlib.lines.Line2D at 0x23e23a31cd0>]"
      ]
     },
     "execution_count": 14,
     "metadata": {},
     "output_type": "execute_result"
    },
    {
     "data": {
      "image/png": "[encoded data removed]",
      "text/plain": [
       "<Figure size 432x288 with 1 Axes>"
      ]
     },
     "metadata": {
      "needs_background": "light"
     },
     "output_type": "display_data"
    }
   ],
   "source": [
    "plt.plot(x, y, 'o')"
   ]
  },
  {
   "cell_type": "code",
   "execution_count": 16,
   "id": "dbb6bc54",
   "metadata": {},
   "outputs": [],
   "source": [
    "reg = DecisionTreeRegressor(max_depth=2)\n",
    "reg.fit(x, y)\n",
    "y_hat = reg.predict(x)"
   ]
  },
  {
   "cell_type": "code",
   "execution_count": 17,
   "id": "6758a2ed",
   "metadata": {},
   "outputs": [
    {
     "data": {
      "text/plain": [
       "array([0.73525834, 0.73525834, 0.73525834, 0.73525834, 0.73525834,\n",
       "       0.73525834, 0.73525834, 0.73525834, 0.73525834, 2.51742171,\n",
       "       2.51742171, 2.51742171, 2.51742171, 2.51742171, 2.51742171,\n",
       "       2.51742171, 2.51742171, 3.76303032, 3.76303032, 3.76303032,\n",
       "       3.76303032, 3.76303032, 5.01837181, 5.01837181, 5.01837181,\n",
       "       5.01837181, 5.01837181, 5.01837181, 5.01837181, 5.01837181,\n",
       "       5.01837181, 5.01837181, 5.01837181, 5.01837181, 5.01837181,\n",
       "       5.01837181, 5.01837181, 5.01837181, 5.01837181, 5.01837181,\n",
       "       5.01837181, 5.01837181, 5.01837181, 5.01837181, 5.01837181,\n",
       "       5.01837181, 5.01837181, 5.01837181, 5.01837181, 5.01837181])"
      ]
     },
     "execution_count": 17,
     "metadata": {},
     "output_type": "execute_result"
    }
   ],
   "source": [
    "y_hat"
   ]
  },
  {
   "cell_type": "code",
   "execution_count": 18,
   "id": "1e922f09",
   "metadata": {},
   "outputs": [
    {
     "data": {
      "text/html": [
       "<div>\n",
       "<style scoped>\n",
       "    .dataframe tbody tr th:only-of-type {\n",
       "        vertical-align: middle;\n",
       "    }\n",
       "\n",
       "    .dataframe tbody tr th {\n",
       "        vertical-align: top;\n",
       "    }\n",
       "\n",
       "    .dataframe thead th {\n",
       "        text-align: right;\n",
       "    }\n",
       "</style>\n",
       "<table border=\"1\" class=\"dataframe\">\n",
       "  <thead>\n",
       "    <tr style=\"text-align: right;\">\n",
       "      <th></th>\n",
       "      <th>children_left</th>\n",
       "      <th>children_right</th>\n",
       "      <th>feature</th>\n",
       "      <th>threshold</th>\n",
       "      <th>n_node_samples</th>\n",
       "      <th>impurity</th>\n",
       "    </tr>\n",
       "  </thead>\n",
       "  <tbody>\n",
       "    <tr>\n",
       "      <th>0</th>\n",
       "      <td>1</td>\n",
       "      <td>4</td>\n",
       "      <td>0</td>\n",
       "      <td>3.367347</td>\n",
       "      <td>50</td>\n",
       "      <td>2.941310</td>\n",
       "    </tr>\n",
       "    <tr>\n",
       "      <th>1</th>\n",
       "      <td>2</td>\n",
       "      <td>3</td>\n",
       "      <td>0</td>\n",
       "      <td>1.734694</td>\n",
       "      <td>17</td>\n",
       "      <td>1.019362</td>\n",
       "    </tr>\n",
       "    <tr>\n",
       "      <th>2</th>\n",
       "      <td>-1</td>\n",
       "      <td>-1</td>\n",
       "      <td>-2</td>\n",
       "      <td>-2.000000</td>\n",
       "      <td>9</td>\n",
       "      <td>0.170733</td>\n",
       "    </tr>\n",
       "    <tr>\n",
       "      <th>3</th>\n",
       "      <td>-1</td>\n",
       "      <td>-1</td>\n",
       "      <td>-2</td>\n",
       "      <td>-2.000000</td>\n",
       "      <td>8</td>\n",
       "      <td>0.292601</td>\n",
       "    </tr>\n",
       "    <tr>\n",
       "      <th>4</th>\n",
       "      <td>5</td>\n",
       "      <td>6</td>\n",
       "      <td>0</td>\n",
       "      <td>4.387755</td>\n",
       "      <td>33</td>\n",
       "      <td>0.330766</td>\n",
       "    </tr>\n",
       "    <tr>\n",
       "      <th>5</th>\n",
       "      <td>-1</td>\n",
       "      <td>-1</td>\n",
       "      <td>-2</td>\n",
       "      <td>-2.000000</td>\n",
       "      <td>5</td>\n",
       "      <td>0.136892</td>\n",
       "    </tr>\n",
       "    <tr>\n",
       "      <th>6</th>\n",
       "      <td>-1</td>\n",
       "      <td>-1</td>\n",
       "      <td>-2</td>\n",
       "      <td>-2.000000</td>\n",
       "      <td>28</td>\n",
       "      <td>0.126617</td>\n",
       "    </tr>\n",
       "  </tbody>\n",
       "</table>\n",
       "</div>"
      ],
      "text/plain": [
       "   children_left  children_right  feature  threshold  n_node_samples  impurity\n",
       "0              1               4        0   3.367347              50  2.941310\n",
       "1              2               3        0   1.734694              17  1.019362\n",
       "2             -1              -1       -2  -2.000000               9  0.170733\n",
       "3             -1              -1       -2  -2.000000               8  0.292601\n",
       "4              5               6        0   4.387755              33  0.330766\n",
       "5             -1              -1       -2  -2.000000               5  0.136892\n",
       "6             -1              -1       -2  -2.000000              28  0.126617"
      ]
     },
     "execution_count": 18,
     "metadata": {},
     "output_type": "execute_result"
    }
   ],
   "source": [
    "# parallel arrays that give info on the nodes\n",
    "pd.DataFrame({\n",
    "    'children_left': reg.tree_.children_left\n",
    "    , 'children_right': reg.tree_.children_right\n",
    "    , 'feature': reg.tree_.feature \n",
    "    , 'threshold': reg.tree_.threshold\n",
    "    , 'n_node_samples': reg.tree_.n_node_samples \n",
    "    , 'impurity': reg.tree_.impurity\n",
    "})"
   ]
  },
  {
   "cell_type": "markdown",
   "id": "7b71fb5f",
   "metadata": {},
   "source": [
    "The index corresponds to the nodes in the tree. `children_left` and `children_right` give the index of the left and right children of the given node. They are set to -1 on the terminal nodes. Looks like the tree is indexed in a depth-first order."
   ]
  },
  {
   "cell_type": "code",
   "execution_count": 21,
   "id": "f9ef39b8",
   "metadata": {},
   "outputs": [
    {
     "data": {
      "text/plain": [
       "[Text(0.5, 0.8333333333333334, 'X[0] <= 3.367\\nsquared_error = 2.941\\nsamples = 50\\nvalue = 3.722'),\n",
       " Text(0.25, 0.5, 'X[0] <= 1.735\\nsquared_error = 1.019\\nsamples = 17\\nvalue = 1.574'),\n",
       " Text(0.125, 0.16666666666666666, 'squared_error = 0.171\\nsamples = 9\\nvalue = 0.735'),\n",
       " Text(0.375, 0.16666666666666666, 'squared_error = 0.293\\nsamples = 8\\nvalue = 2.517'),\n",
       " Text(0.75, 0.5, 'X[0] <= 4.388\\nsquared_error = 0.331\\nsamples = 33\\nvalue = 4.828'),\n",
       " Text(0.625, 0.16666666666666666, 'squared_error = 0.137\\nsamples = 5\\nvalue = 3.763'),\n",
       " Text(0.875, 0.16666666666666666, 'squared_error = 0.127\\nsamples = 28\\nvalue = 5.018')]"
      ]
     },
     "execution_count": 21,
     "metadata": {},
     "output_type": "execute_result"
    },
    {
     "data": {
      "image/png": "[encoded data removed]",
      "text/plain": [
       "<Figure size 432x288 with 1 Axes>"
      ]
     },
     "metadata": {
      "needs_background": "light"
     },
     "output_type": "display_data"
    }
   ],
   "source": [
    "plot_tree(reg)"
   ]
  },
  {
   "cell_type": "code",
   "execution_count": 22,
   "id": "f37d10ab",
   "metadata": {},
   "outputs": [
    {
     "data": {
      "text/plain": [
       "array([2, 2, 2, 2, 2, 2, 2, 2, 2, 3, 3, 3, 3, 3, 3, 3, 3, 5, 5, 5, 5, 5,\n",
       "       6, 6, 6, 6, 6, 6, 6, 6, 6, 6, 6, 6, 6, 6, 6, 6, 6, 6, 6, 6, 6, 6,\n",
       "       6, 6, 6, 6, 6, 6], dtype=int64)"
      ]
     },
     "execution_count": 22,
     "metadata": {},
     "output_type": "execute_result"
    }
   ],
   "source": [
    "# find the terminal nodes that each observation lands in.\n",
    "reg.apply(x)"
   ]
  },
  {
   "cell_type": "code",
   "execution_count": 23,
   "id": "a5564018",
   "metadata": {},
   "outputs": [
    {
     "data": {
      "text/plain": [
       "array([2, 2, 2, 2, 2, 2, 2, 2, 2, 3, 3, 3, 3, 3, 3, 3, 3, 5, 5, 5, 5, 5,\n",
       "       6, 6, 6, 6, 6, 6, 6, 6, 6, 6, 6, 6, 6, 6, 6, 6, 6, 6, 6, 6, 6, 6,\n",
       "       6, 6, 6, 6, 6, 6], dtype=int64)"
      ]
     },
     "execution_count": 23,
     "metadata": {},
     "output_type": "execute_result"
    }
   ],
   "source": [
    "# find the terminal nodes that each observation lands in.\n",
    "# it works on the tree_ object too\n",
    "reg.tree_.apply(x.astype(np.float32))"
   ]
  },
  {
   "cell_type": "code",
   "execution_count": 24,
   "id": "9a3dda23",
   "metadata": {},
   "outputs": [
    {
     "data": {
      "text/plain": [
       "array([2, 3, 5, 6], dtype=int64)"
      ]
     },
     "execution_count": 24,
     "metadata": {},
     "output_type": "execute_result"
    }
   ],
   "source": [
    "# terminal node id's\n",
    "np.nonzero(reg.tree_.children_left == reg.tree_.children_right)[0]"
   ]
  },
  {
   "cell_type": "code",
   "execution_count": 25,
   "id": "4144bbf7",
   "metadata": {},
   "outputs": [
    {
     "data": {
      "text/plain": [
       "array([[[3.72172522]],\n",
       "\n",
       "       [[1.57392346]],\n",
       "\n",
       "       [[0.73525834]],\n",
       "\n",
       "       [[2.51742171]],\n",
       "\n",
       "       [[4.82816855]],\n",
       "\n",
       "       [[3.76303032]],\n",
       "\n",
       "       [[5.01837181]]])"
      ]
     },
     "execution_count": 25,
     "metadata": {},
     "output_type": "execute_result"
    }
   ],
   "source": [
    "# the prediction values for each node (including non terminal ones)\n",
    "reg.tree_.value"
   ]
  },
  {
   "cell_type": "markdown",
   "id": "2d2f448f",
   "metadata": {},
   "source": [
    "Not sure why `value` has two other dimensions."
   ]
  },
  {
   "cell_type": "code",
   "execution_count": 26,
   "id": "a4c453e7",
   "metadata": {},
   "outputs": [
    {
     "data": {
      "text/plain": [
       "array([3.72172522, 1.57392346, 0.73525834, 2.51742171, 4.82816855,\n",
       "       3.76303032, 5.01837181])"
      ]
     },
     "execution_count": 26,
     "metadata": {},
     "output_type": "execute_result"
    }
   ],
   "source": [
    "# the prediction values for each node (including non terminal ones)\n",
    "reg.tree_.value[:, 0, 0]"
   ]
  },
  {
   "cell_type": "code",
   "execution_count": 27,
   "id": "40fe1bb7",
   "metadata": {},
   "outputs": [
    {
     "data": {
      "text/plain": [
       "array([0.73525834, 0.73525834, 0.73525834, 0.73525834, 0.73525834,\n",
       "       0.73525834, 0.73525834, 0.73525834, 0.73525834, 2.51742171,\n",
       "       2.51742171, 2.51742171, 2.51742171, 2.51742171, 2.51742171,\n",
       "       2.51742171, 2.51742171, 3.76303032, 3.76303032, 3.76303032,\n",
       "       3.76303032, 3.76303032, 5.01837181, 5.01837181, 5.01837181,\n",
       "       5.01837181, 5.01837181, 5.01837181, 5.01837181, 5.01837181,\n",
       "       5.01837181, 5.01837181, 5.01837181, 5.01837181, 5.01837181,\n",
       "       5.01837181, 5.01837181, 5.01837181, 5.01837181, 5.01837181,\n",
       "       5.01837181, 5.01837181, 5.01837181, 5.01837181, 5.01837181,\n",
       "       5.01837181, 5.01837181, 5.01837181, 5.01837181, 5.01837181])"
      ]
     },
     "execution_count": 27,
     "metadata": {},
     "output_type": "execute_result"
    }
   ],
   "source": [
    "# manually get predicted values for given feature vector observations\n",
    "reg.tree_.value[:, 0, 0][reg.apply(x)]"
   ]
  },
  {
   "cell_type": "code",
   "execution_count": 28,
   "id": "64c831b3",
   "metadata": {},
   "outputs": [],
   "source": [
    "# modifying one of the terminal node prediction values\n",
    "reg.tree_.value[3, 0, 0] = 0.0"
   ]
  },
  {
   "cell_type": "code",
   "execution_count": 29,
   "id": "c0977ead",
   "metadata": {},
   "outputs": [
    {
     "data": {
      "text/plain": [
       "array([0.73525834, 0.73525834, 0.73525834, 0.73525834, 0.73525834,\n",
       "       0.73525834, 0.73525834, 0.73525834, 0.73525834, 0.        ,\n",
       "       0.        , 0.        , 0.        , 0.        , 0.        ,\n",
       "       0.        , 0.        , 3.76303032, 3.76303032, 3.76303032,\n",
       "       3.76303032, 3.76303032, 5.01837181, 5.01837181, 5.01837181,\n",
       "       5.01837181, 5.01837181, 5.01837181, 5.01837181, 5.01837181,\n",
       "       5.01837181, 5.01837181, 5.01837181, 5.01837181, 5.01837181,\n",
       "       5.01837181, 5.01837181, 5.01837181, 5.01837181, 5.01837181,\n",
       "       5.01837181, 5.01837181, 5.01837181, 5.01837181, 5.01837181,\n",
       "       5.01837181, 5.01837181, 5.01837181, 5.01837181, 5.01837181])"
      ]
     },
     "execution_count": 29,
     "metadata": {},
     "output_type": "execute_result"
    }
   ],
   "source": [
    "#built in predict method\n",
    "reg.predict(x)"
   ]
  },
  {
   "cell_type": "markdown",
   "id": "f6d44cd4",
   "metadata": {},
   "source": [
    "### scipy minimize"
   ]
  },
  {
   "cell_type": "code",
   "execution_count": 30,
   "id": "ff3781dd",
   "metadata": {},
   "outputs": [],
   "source": [
    "from scipy.optimize import minimize"
   ]
  },
  {
   "cell_type": "code",
   "execution_count": 31,
   "id": "1d266e06",
   "metadata": {},
   "outputs": [
    {
     "data": {
      "text/plain": [
       "3.999999987147814"
      ]
     },
     "execution_count": 31,
     "metadata": {},
     "output_type": "execute_result"
    }
   ],
   "source": [
    "my_fun = lambda t: (t - 4)**2 + 3\n",
    "t0 = 0\n",
    "res = minimize(my_fun, t0)\n",
    "res.x[0]"
   ]
  },
  {
   "cell_type": "markdown",
   "id": "6c3b20cf",
   "metadata": {},
   "source": [
    "That was not so bad"
   ]
  },
  {
   "cell_type": "markdown",
   "id": "a138972c",
   "metadata": {},
   "source": [
    "### Loss Function Classes\n",
    "I think we'll implement loss functions as a class that the user supplies. The class should have two methods, `loss` and `negative_gradient`, which both take two arguments, `y` and `y_hat`. The `loss` method should return a scalar, while the `negative_gradient` method should return an array the same size as y and y_hat."
   ]
  },
  {
   "cell_type": "markdown",
   "id": "c66c90ef",
   "metadata": {},
   "source": [
    "#### Mean Squared Error"
   ]
  },
  {
   "cell_type": "code",
   "execution_count": 53,
   "id": "24727a5a",
   "metadata": {},
   "outputs": [],
   "source": [
    "# from scratch GBM\n",
    "class SquaredErrorLoss():\n",
    "    '''User-Defined Squared Error Loss'''\n",
    "    \n",
    "    def loss(self, y, y_hat):\n",
    "        return np.mean((y - y_hat)**2)\n",
    "    \n",
    "    def negative_gradient(self, y, y_hat):\n",
    "        return y - y_hat"
   ]
  },
  {
   "cell_type": "markdown",
   "id": "e68c8f11",
   "metadata": {},
   "source": [
    "#### Mean Absolute Error"
   ]
  },
  {
   "cell_type": "code",
   "execution_count": 56,
   "id": "f60957e5",
   "metadata": {},
   "outputs": [],
   "source": [
    "# from scratch GBM\n",
    "class AbsoulateErrorLoss():\n",
    "    '''User-Defined Absoulate Error Loss'''\n",
    "    \n",
    "    def loss(self, y, preds):\n",
    "        return np.mean(np.abs(y - preds))\n",
    "    \n",
    "    def negative_gradient(self, y, preds):\n",
    "        return np.sign(y - preds)"
   ]
  },
  {
   "cell_type": "code",
   "execution_count": 33,
   "id": "cb4958e4",
   "metadata": {},
   "outputs": [],
   "source": [
    "# make an instances\n",
    "obj = SquaredErrorLoss()"
   ]
  },
  {
   "cell_type": "code",
   "execution_count": 34,
   "id": "b0e691d7",
   "metadata": {},
   "outputs": [
    {
     "data": {
      "text/plain": [
       "0.16214277004774613"
      ]
     },
     "execution_count": 34,
     "metadata": {},
     "output_type": "execute_result"
    }
   ],
   "source": [
    "obj.loss(y, y_hat)"
   ]
  },
  {
   "cell_type": "code",
   "execution_count": 35,
   "id": "b09ccb34",
   "metadata": {},
   "outputs": [
    {
     "data": {
      "text/plain": [
       "array([-0.49328234, -0.16490177, -0.30789102, -0.5342459 ,  0.49762101,\n",
       "       -0.11770979,  0.16961752,  0.20743222,  0.74336007, -0.60681115,\n",
       "        0.26313102, -0.34961175, -0.67332786, -0.32595249,  0.91871731,\n",
       "        0.18939646,  0.58445846, -0.23617393,  0.51776098, -0.19781179,\n",
       "       -0.44061632,  0.35684107,  0.0037052 , -0.29944397, -0.39255422,\n",
       "        0.6913104 ,  0.08644323, -0.31698584, -0.65777892,  0.09638758,\n",
       "        0.41412433, -0.36464117,  0.61874409,  0.39915448,  0.18900254,\n",
       "       -0.09499533, -0.0919841 , -0.15632637, -0.37510749,  0.48978943,\n",
       "        0.09416334,  0.32347737, -0.24084936, -0.05617725, -0.11140441,\n",
       "       -0.16794618, -0.53494089, -0.02327653,  0.65887995, -0.18076992])"
      ]
     },
     "execution_count": 35,
     "metadata": {},
     "output_type": "execute_result"
    }
   ],
   "source": [
    "obj.negative_gradient(y, y_hat)"
   ]
  },
  {
   "cell_type": "markdown",
   "id": "4bc99b88",
   "metadata": {},
   "source": [
    "## GBM Implementation"
   ]
  },
  {
   "cell_type": "code",
   "execution_count": 36,
   "id": "cba5268b",
   "metadata": {},
   "outputs": [],
   "source": [
    "import numpy as np\n",
    "from sklearn.tree import DecisionTreeRegressor \n",
    "from scipy.optimize import minimize"
   ]
  },
  {
   "cell_type": "code",
   "execution_count": 45,
   "id": "59ee7a27",
   "metadata": {},
   "outputs": [],
   "source": [
    "class GradientBoostingMachine():\n",
    "    '''\n",
    "    Gradient Boosting Machine supporting any user-supplied loss function\n",
    "    \n",
    "    Parameter\n",
    "    ---------\n",
    "    n_trees : int\n",
    "        number of boosting rounds\n",
    "    \n",
    "    learning_rate : float\n",
    "        learning rate hyperparameter\n",
    "        \n",
    "    max_depth : int\n",
    "        maximum depth tree\n",
    "    '''\n",
    "    def __init__(self, n_trees, learning_rate=0.1, max_depth=1):\n",
    "        self.n_trees = n_trees\n",
    "        self.learning_rate = learning_rate\n",
    "        self.max_depth = max_depth\n",
    "        \n",
    "        \n",
    "    def fit(self, X, y, objective):\n",
    "        '''\n",
    "        Fit the GBM using the specified loss function\n",
    "        \n",
    "        Parameter\n",
    "        ---------\n",
    "        X : ndarray of size (number observations, number features)\n",
    "            design matrix\n",
    "            \n",
    "        y : ndarray of size (number observations)\n",
    "            target values\n",
    "            \n",
    "        objective : loss function class instance\n",
    "            Class specifying the loss function for training.\n",
    "            Should implement two methods:\n",
    "                loss(labels: ndarray, predictions: ndarray) -> float\n",
    "                negative_gradient(labels: ndarray, predictions: ndarray) -> ndarray\n",
    "        '''\n",
    "        self.trees = []\n",
    "        self.base_prediction = self._get_optimal_base_value(y, objective.loss)\n",
    "        current_predictions = self.base_prediction * np.ones(shape=y.shape)\n",
    "        for _ in range(self.n_trees):\n",
    "            pseudo_residuals = objective.negative_gradient(y, current_predictions)\n",
    "            tree = DecisionTreeRegressor(max_depth=self.max_depth)\n",
    "            tree.fit(X, pseudo_residuals)\n",
    "            self._update_terminal_nodes(tree, X, y, current_predictions, objective.loss)\n",
    "            current_predictions = current_predictions + self.learning_rate * tree.predict(X)\n",
    "            self.trees.append(tree)\n",
    "            \n",
    "    \n",
    "    def _get_optimal_base_value(self, y, loss):\n",
    "        '''\n",
    "        Find the optimal initial prediction for the base model....\n",
    "        '''\n",
    "        fun = lambda c: loss(y,c)\n",
    "        c0 = y.mean()\n",
    "        return minimize(fun=fun, x0=c0).x[0]\n",
    "    \n",
    "    \n",
    "    def _update_terminal_nodes(self, tree, X, y, current_predictions, loss):\n",
    "        '''\n",
    "        Update the tree's prediction according to the loss function\n",
    "        '''\n",
    "        # terminal node id's\n",
    "        leaf_nodes = np.nonzero(tree.tree_.children_left == -1)[0]\n",
    "        \n",
    "        # Compute leaf for each sample in ``X``\n",
    "        leaf_node_for_each_sample = tree.apply(X)\n",
    "        for leaf in leaf_nodes:\n",
    "            samples_in_this_leaf = np.where(leaf_node_for_each_sample == leaf)[0]\n",
    "            y_in_leaf = y.take(samples_in_this_leaf, axis=0)\n",
    "            preds_in_leaf = current_predictions.take(samples_in_this_leaf, axis=0)\n",
    "            val = self._get_optimal_leaf_value(y_in_leaf, preds_in_leaf, loss)\n",
    "            \n",
    "            tree.tree_.value[leaf, 0, 0] = val\n",
    "            \n",
    "      \n",
    "    def _get_optimal_leaf_value(self, y, current_predictions, loss):\n",
    "        '''\n",
    "        Find the optimal prediction value for a given leaf\n",
    "        '''\n",
    "        fun = lambda c: loss(y, current_predictions + c)\n",
    "        c0 = y.mean()\n",
    "        return minimize(fun=fun, x0=c0).x[0]\n",
    "    \n",
    "    def predict(self, X):\n",
    "        '''\n",
    "        Generate predictions for the given input data.. \n",
    "        '''\n",
    "        return (self.base_prediction + self.learning_rate * np.sum([tree.predict(X) for tree in self.trees], axis=0))\n",
    "    \n",
    "        \n",
    "        "
   ]
  },
  {
   "cell_type": "markdown",
   "id": "30dece0a",
   "metadata": {},
   "source": [
    "### Testing our Model"
   ]
  },
  {
   "cell_type": "code",
   "execution_count": 39,
   "id": "c271ca46",
   "metadata": {},
   "outputs": [],
   "source": [
    "from sklearn.ensemble import GradientBoostingRegressor, GradientBoostingClassifier"
   ]
  },
  {
   "cell_type": "code",
   "execution_count": 40,
   "id": "a0a9c1ae",
   "metadata": {},
   "outputs": [],
   "source": [
    "# test data\n",
    "def make_test_data(n, noise_scale):\n",
    "    x = np.linspace(0, 10, 500).reshape(-1,1)\n",
    "    y = (np.where(x < 5, x, 5) + rng.normal(0, noise_scale, size=x.shape)).ravel()\n",
    "    return x,y"
   ]
  },
  {
   "cell_type": "code",
   "execution_count": 41,
   "id": "9d38d079",
   "metadata": {},
   "outputs": [],
   "source": [
    "# print model loss scores\n",
    "def print_model_loss_scores(obj, y, preds, sk_preds):\n",
    "    print(f'From Scratch Loss = {obj.loss(y,preds):0.4}')\n",
    "    print(f'Scikit-Learn Loss = {obj.loss(y,sk_preds):0.4}')"
   ]
  },
  {
   "cell_type": "code",
   "execution_count": 42,
   "id": "45edbbaa",
   "metadata": {},
   "outputs": [],
   "source": [
    "x, y = make_test_data(500, 0.4)"
   ]
  },
  {
   "cell_type": "markdown",
   "id": "3de9e7bd",
   "metadata": {},
   "source": [
    "#### Mean Squared Error"
   ]
  },
  {
   "cell_type": "code",
   "execution_count": 46,
   "id": "1bca0181",
   "metadata": {},
   "outputs": [],
   "source": [
    "gbm = GradientBoostingMachine(n_trees=10, learning_rate=0.5, max_depth=1)"
   ]
  },
  {
   "cell_type": "code",
   "execution_count": 47,
   "id": "9fae9fe5",
   "metadata": {},
   "outputs": [],
   "source": [
    "gbm.fit(x, y, SquaredErrorLoss())"
   ]
  },
  {
   "cell_type": "code",
   "execution_count": 55,
   "id": "69075e3b",
   "metadata": {},
   "outputs": [
    {
     "data": {
      "text/plain": [
       "Text(0.5, 1.0, 'model predicting mean or y | x')"
      ]
     },
     "execution_count": 55,
     "metadata": {},
     "output_type": "execute_result"
    },
    {
     "data": {
      "image/png": "[encoded data removed]",
      "text/plain": [
       "<Figure size 432x288 with 1 Axes>"
      ]
     },
     "metadata": {
      "needs_background": "light"
     },
     "output_type": "display_data"
    }
   ],
   "source": [
    "plt.plot(x.ravel(), y, 'o', label='data')\n",
    "plt.plot(x.ravel(), gbm.predict(x), '-k', label='model')\n",
    "plt.legend()\n",
    "plt.xlabel('x')\n",
    "plt.ylabel('y')\n",
    "plt.title('model predicting mean or y | x')"
   ]
  },
  {
   "cell_type": "code",
   "execution_count": 48,
   "id": "25575d6a",
   "metadata": {},
   "outputs": [],
   "source": [
    "pred = gbm.predict(x)"
   ]
  },
  {
   "cell_type": "markdown",
   "id": "bcb34eea",
   "metadata": {},
   "source": [
    "### scikit-learn GBM"
   ]
  },
  {
   "cell_type": "code",
   "execution_count": 49,
   "id": "288846c0",
   "metadata": {},
   "outputs": [],
   "source": [
    "sk_gbm = GradientBoostingRegressor(n_estimators=10,learning_rate=0.5,max_depth=1,loss='ls')"
   ]
  },
  {
   "cell_type": "code",
   "execution_count": 50,
   "id": "fbc3f8fe",
   "metadata": {},
   "outputs": [
    {
     "name": "stderr",
     "output_type": "stream",
     "text": [
      "C:\\Users\\Atanu\\anaconda3\\lib\\site-packages\\sklearn\\ensemble\\_gb.py:294: FutureWarning: The loss 'ls' was deprecated in v1.0 and will be removed in version 1.2. Use 'squared_error' which is equivalent.\n",
      "  warnings.warn(\n"
     ]
    },
    {
     "data": {
      "text/html": [
       "<style>#sk-container-id-1 {color: black;background-color: white;}#sk-container-id-1 pre{padding: 0;}#sk-container-id-1 div.sk-toggleable {background-color: white;}#sk-container-id-1 label.sk-toggleable__label {cursor: pointer;display: block;width: 100%;margin-bottom: 0;padding: 0.3em;box-sizing: border-box;text-align: center;}#sk-container-id-1 label.sk-toggleable__label-arrow:before {content: \"▸\";float: left;margin-right: 0.25em;color: #696969;}#sk-container-id-1 label.sk-toggleable__label-arrow:hover:before {color: black;}#sk-container-id-1 div.sk-estimator:hover label.sk-toggleable__label-arrow:before {color: black;}#sk-container-id-1 div.sk-toggleable__content {max-height: 0;max-width: 0;overflow: hidden;text-align: left;background-color: #f0f8ff;}#sk-container-id-1 div.sk-toggleable__content pre {margin: 0.2em;color: black;border-radius: 0.25em;background-color: #f0f8ff;}#sk-container-id-1 input.sk-toggleable__control:checked~div.sk-toggleable__content {max-height: 200px;max-width: 100%;overflow: auto;}#sk-container-id-1 input.sk-toggleable__control:checked~label.sk-toggleable__label-arrow:before {content: \"▾\";}#sk-container-id-1 div.sk-estimator input.sk-toggleable__control:checked~label.sk-toggleable__label {background-color: #d4ebff;}#sk-container-id-1 div.sk-label input.sk-toggleable__control:checked~label.sk-toggleable__label {background-color: #d4ebff;}#sk-container-id-1 input.sk-hidden--visually {border: 0;clip: rect(1px 1px 1px 1px);clip: rect(1px, 1px, 1px, 1px);height: 1px;margin: -1px;overflow: hidden;padding: 0;position: absolute;width: 1px;}#sk-container-id-1 div.sk-estimator {font-family: monospace;background-color: #f0f8ff;border: 1px dotted black;border-radius: 0.25em;box-sizing: border-box;margin-bottom: 0.5em;}#sk-container-id-1 div.sk-estimator:hover {background-color: #d4ebff;}#sk-container-id-1 div.sk-parallel-item::after {content: \"\";width: 100%;border-bottom: 1px solid gray;flex-grow: 1;}#sk-container-id-1 div.sk-label:hover label.sk-toggleable__label {background-color: #d4ebff;}#sk-container-id-1 div.sk-serial::before {content: \"\";position: absolute;border-left: 1px solid gray;box-sizing: border-box;top: 0;bottom: 0;left: 50%;z-index: 0;}#sk-container-id-1 div.sk-serial {display: flex;flex-direction: column;align-items: center;background-color: white;padding-right: 0.2em;padding-left: 0.2em;position: relative;}#sk-container-id-1 div.sk-item {position: relative;z-index: 1;}#sk-container-id-1 div.sk-parallel {display: flex;align-items: stretch;justify-content: center;background-color: white;position: relative;}#sk-container-id-1 div.sk-item::before, #sk-container-id-1 div.sk-parallel-item::before {content: \"\";position: absolute;border-left: 1px solid gray;box-sizing: border-box;top: 0;bottom: 0;left: 50%;z-index: -1;}#sk-container-id-1 div.sk-parallel-item {display: flex;flex-direction: column;z-index: 1;position: relative;background-color: white;}#sk-container-id-1 div.sk-parallel-item:first-child::after {align-self: flex-end;width: 50%;}#sk-container-id-1 div.sk-parallel-item:last-child::after {align-self: flex-start;width: 50%;}#sk-container-id-1 div.sk-parallel-item:only-child::after {width: 0;}#sk-container-id-1 div.sk-dashed-wrapped {border: 1px dashed gray;margin: 0 0.4em 0.5em 0.4em;box-sizing: border-box;padding-bottom: 0.4em;background-color: white;}#sk-container-id-1 div.sk-label label {font-family: monospace;font-weight: bold;display: inline-block;line-height: 1.2em;}#sk-container-id-1 div.sk-label-container {text-align: center;}#sk-container-id-1 div.sk-container {/* jupyter's `normalize.less` sets `[hidden] { display: none; }` but bootstrap.min.css set `[hidden] { display: none !important; }` so we also need the `!important` here to be able to override the default hidden behavior on the sphinx rendered scikit-learn.org. See: https://github.com/scikit-learn/scikit-learn/issues/21755 */display: inline-block !important;position: relative;}#sk-container-id-1 div.sk-text-repr-fallback {display: none;}</style><div id=\"sk-container-id-1\" class=\"sk-top-container\"><div class=\"sk-text-repr-fallback\"><pre>GradientBoostingRegressor(learning_rate=0.5, loss=&#x27;ls&#x27;, max_depth=1,\n",
       "                          n_estimators=10)</pre><b>In a Jupyter environment, please rerun this cell to show the HTML representation or trust the notebook. <br />On GitHub, the HTML representation is unable to render, please try loading this page with nbviewer.org.</b></div><div class=\"sk-container\" hidden><div class=\"sk-item\"><div class=\"sk-estimator sk-toggleable\"><input class=\"sk-toggleable__control sk-hidden--visually\" id=\"sk-estimator-id-1\" type=\"checkbox\" checked><label for=\"sk-estimator-id-1\" class=\"sk-toggleable__label sk-toggleable__label-arrow\">GradientBoostingRegressor</label><div class=\"sk-toggleable__content\"><pre>GradientBoostingRegressor(learning_rate=0.5, loss=&#x27;ls&#x27;, max_depth=1,\n",
       "                          n_estimators=10)</pre></div></div></div></div></div>"
      ],
      "text/plain": [
       "GradientBoostingRegressor(learning_rate=0.5, loss='ls', max_depth=1,\n",
       "                          n_estimators=10)"
      ]
     },
     "execution_count": 50,
     "metadata": {},
     "output_type": "execute_result"
    }
   ],
   "source": [
    "sk_gbm.fit(x,y)"
   ]
  },
  {
   "cell_type": "code",
   "execution_count": 51,
   "id": "4eb29130",
   "metadata": {},
   "outputs": [],
   "source": [
    "sk_pred = sk_gbm.predict(x)"
   ]
  },
  {
   "cell_type": "code",
   "execution_count": 52,
   "id": "11f4a0af",
   "metadata": {},
   "outputs": [
    {
     "name": "stdout",
     "output_type": "stream",
     "text": [
      "From Scratch Loss = 0.1758\n",
      "Scikit-Learn Loss = 0.1758\n"
     ]
    }
   ],
   "source": [
    "print_model_loss_scores(SquaredErrorLoss(), y, pred, sk_pred)"
   ]
  },
  {
   "cell_type": "markdown",
   "id": "c0bbe96a",
   "metadata": {},
   "source": [
    "#### Mean Absolute Error"
   ]
  },
  {
   "cell_type": "code",
   "execution_count": 57,
   "id": "d28d5a12",
   "metadata": {},
   "outputs": [],
   "source": [
    "gbm = GradientBoostingMachine(n_trees=10, learning_rate=0.5)"
   ]
  },
  {
   "cell_type": "code",
   "execution_count": 58,
   "id": "8c7a007d",
   "metadata": {},
   "outputs": [],
   "source": [
    "gbm.fit(x, y, AbsoulateErrorLoss())"
   ]
  },
  {
   "cell_type": "code",
   "execution_count": 59,
   "id": "21b577f5",
   "metadata": {},
   "outputs": [
    {
     "data": {
      "text/plain": [
       "Text(0.5, 1.0, 'model predicting mean or y | x')"
      ]
     },
     "execution_count": 59,
     "metadata": {},
     "output_type": "execute_result"
    },
    {
     "data": {
      "image/png": "[encoded data removed]",
      "text/plain": [
       "<Figure size 432x288 with 1 Axes>"
      ]
     },
     "metadata": {
      "needs_background": "light"
     },
     "output_type": "display_data"
    }
   ],
   "source": [
    "plt.plot(x.ravel(), y, 'o', label='data')\n",
    "plt.plot(x.ravel(), gbm.predict(x), '-k', label='model')\n",
    "plt.legend()\n",
    "plt.xlabel('x')\n",
    "plt.ylabel('y')\n",
    "plt.title('model predicting mean or y | x')"
   ]
  },
  {
   "cell_type": "markdown",
   "id": "b8a353b0",
   "metadata": {},
   "source": [
    "### scikit-learn GBM"
   ]
  },
  {
   "cell_type": "code",
   "execution_count": 60,
   "id": "eeb1729a",
   "metadata": {},
   "outputs": [],
   "source": [
    "# scikit-learn GBM\n",
    "sk_gbm = GradientBoostingRegressor(n_estimators=10,learning_rate=0.5,max_depth=1,loss='lad')"
   ]
  },
  {
   "cell_type": "code",
   "execution_count": 61,
   "id": "02a44e6b",
   "metadata": {},
   "outputs": [
    {
     "name": "stderr",
     "output_type": "stream",
     "text": [
      "C:\\Users\\Atanu\\anaconda3\\lib\\site-packages\\sklearn\\ensemble\\_gb.py:301: FutureWarning: The loss 'lad' was deprecated in v1.0 and will be removed in version 1.2. Use 'absolute_error' which is equivalent.\n",
      "  warnings.warn(\n"
     ]
    },
    {
     "data": {
      "text/html": [
       "<style>#sk-container-id-2 {color: black;background-color: white;}#sk-container-id-2 pre{padding: 0;}#sk-container-id-2 div.sk-toggleable {background-color: white;}#sk-container-id-2 label.sk-toggleable__label {cursor: pointer;display: block;width: 100%;margin-bottom: 0;padding: 0.3em;box-sizing: border-box;text-align: center;}#sk-container-id-2 label.sk-toggleable__label-arrow:before {content: \"▸\";float: left;margin-right: 0.25em;color: #696969;}#sk-container-id-2 label.sk-toggleable__label-arrow:hover:before {color: black;}#sk-container-id-2 div.sk-estimator:hover label.sk-toggleable__label-arrow:before {color: black;}#sk-container-id-2 div.sk-toggleable__content {max-height: 0;max-width: 0;overflow: hidden;text-align: left;background-color: #f0f8ff;}#sk-container-id-2 div.sk-toggleable__content pre {margin: 0.2em;color: black;border-radius: 0.25em;background-color: #f0f8ff;}#sk-container-id-2 input.sk-toggleable__control:checked~div.sk-toggleable__content {max-height: 200px;max-width: 100%;overflow: auto;}#sk-container-id-2 input.sk-toggleable__control:checked~label.sk-toggleable__label-arrow:before {content: \"▾\";}#sk-container-id-2 div.sk-estimator input.sk-toggleable__control:checked~label.sk-toggleable__label {background-color: #d4ebff;}#sk-container-id-2 div.sk-label input.sk-toggleable__control:checked~label.sk-toggleable__label {background-color: #d4ebff;}#sk-container-id-2 input.sk-hidden--visually {border: 0;clip: rect(1px 1px 1px 1px);clip: rect(1px, 1px, 1px, 1px);height: 1px;margin: -1px;overflow: hidden;padding: 0;position: absolute;width: 1px;}#sk-container-id-2 div.sk-estimator {font-family: monospace;background-color: #f0f8ff;border: 1px dotted black;border-radius: 0.25em;box-sizing: border-box;margin-bottom: 0.5em;}#sk-container-id-2 div.sk-estimator:hover {background-color: #d4ebff;}#sk-container-id-2 div.sk-parallel-item::after {content: \"\";width: 100%;border-bottom: 1px solid gray;flex-grow: 1;}#sk-container-id-2 div.sk-label:hover label.sk-toggleable__label {background-color: #d4ebff;}#sk-container-id-2 div.sk-serial::before {content: \"\";position: absolute;border-left: 1px solid gray;box-sizing: border-box;top: 0;bottom: 0;left: 50%;z-index: 0;}#sk-container-id-2 div.sk-serial {display: flex;flex-direction: column;align-items: center;background-color: white;padding-right: 0.2em;padding-left: 0.2em;position: relative;}#sk-container-id-2 div.sk-item {position: relative;z-index: 1;}#sk-container-id-2 div.sk-parallel {display: flex;align-items: stretch;justify-content: center;background-color: white;position: relative;}#sk-container-id-2 div.sk-item::before, #sk-container-id-2 div.sk-parallel-item::before {content: \"\";position: absolute;border-left: 1px solid gray;box-sizing: border-box;top: 0;bottom: 0;left: 50%;z-index: -1;}#sk-container-id-2 div.sk-parallel-item {display: flex;flex-direction: column;z-index: 1;position: relative;background-color: white;}#sk-container-id-2 div.sk-parallel-item:first-child::after {align-self: flex-end;width: 50%;}#sk-container-id-2 div.sk-parallel-item:last-child::after {align-self: flex-start;width: 50%;}#sk-container-id-2 div.sk-parallel-item:only-child::after {width: 0;}#sk-container-id-2 div.sk-dashed-wrapped {border: 1px dashed gray;margin: 0 0.4em 0.5em 0.4em;box-sizing: border-box;padding-bottom: 0.4em;background-color: white;}#sk-container-id-2 div.sk-label label {font-family: monospace;font-weight: bold;display: inline-block;line-height: 1.2em;}#sk-container-id-2 div.sk-label-container {text-align: center;}#sk-container-id-2 div.sk-container {/* jupyter's `normalize.less` sets `[hidden] { display: none; }` but bootstrap.min.css set `[hidden] { display: none !important; }` so we also need the `!important` here to be able to override the default hidden behavior on the sphinx rendered scikit-learn.org. See: https://github.com/scikit-learn/scikit-learn/issues/21755 */display: inline-block !important;position: relative;}#sk-container-id-2 div.sk-text-repr-fallback {display: none;}</style><div id=\"sk-container-id-2\" class=\"sk-top-container\"><div class=\"sk-text-repr-fallback\"><pre>GradientBoostingRegressor(learning_rate=0.5, loss=&#x27;lad&#x27;, max_depth=1,\n",
       "                          n_estimators=10)</pre><b>In a Jupyter environment, please rerun this cell to show the HTML representation or trust the notebook. <br />On GitHub, the HTML representation is unable to render, please try loading this page with nbviewer.org.</b></div><div class=\"sk-container\" hidden><div class=\"sk-item\"><div class=\"sk-estimator sk-toggleable\"><input class=\"sk-toggleable__control sk-hidden--visually\" id=\"sk-estimator-id-2\" type=\"checkbox\" checked><label for=\"sk-estimator-id-2\" class=\"sk-toggleable__label sk-toggleable__label-arrow\">GradientBoostingRegressor</label><div class=\"sk-toggleable__content\"><pre>GradientBoostingRegressor(learning_rate=0.5, loss=&#x27;lad&#x27;, max_depth=1,\n",
       "                          n_estimators=10)</pre></div></div></div></div></div>"
      ],
      "text/plain": [
       "GradientBoostingRegressor(learning_rate=0.5, loss='lad', max_depth=1,\n",
       "                          n_estimators=10)"
      ]
     },
     "execution_count": 61,
     "metadata": {},
     "output_type": "execute_result"
    }
   ],
   "source": [
    "sk_gbm.fit(x,y)"
   ]
  },
  {
   "cell_type": "code",
   "execution_count": 62,
   "id": "100fe778",
   "metadata": {},
   "outputs": [],
   "source": [
    "sk_pred = sk_gbm.predict(x)"
   ]
  },
  {
   "cell_type": "code",
   "execution_count": 64,
   "id": "6c5f39da",
   "metadata": {},
   "outputs": [
    {
     "name": "stdout",
     "output_type": "stream",
     "text": [
      "From Scratch Loss = 0.3349\n",
      "Scikit-Learn Loss = 0.3314\n"
     ]
    }
   ],
   "source": [
    "print_model_loss_scores(AbsoulateErrorLoss(), y, pred, sk_pred)"
   ]
  },
  {
   "cell_type": "code",
   "execution_count": null,
   "id": "89d00a20",
   "metadata": {},
   "outputs": [],
   "source": []
  }
 ],
 "metadata": {
  "kernelspec": {
   "display_name": "Python 3 (ipykernel)",
   "language": "python",
   "name": "python3"
  },
  "language_info": {
   "codemirror_mode": {
    "name": "ipython",
    "version": 3
   },
   "file_extension": ".py",
   "mimetype": "text/x-python",
   "name": "python",
   "nbconvert_exporter": "python",
   "pygments_lexer": "ipython3",
   "version": "3.9.7"
  }
 },
 "nbformat": 4,
 "nbformat_minor": 5
}
