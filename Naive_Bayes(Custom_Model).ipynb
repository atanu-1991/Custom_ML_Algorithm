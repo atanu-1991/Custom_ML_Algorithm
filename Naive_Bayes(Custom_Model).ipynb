{
 "cells": [
  {
   "cell_type": "code",
   "execution_count": 1,
   "id": "c61bbdc0",
   "metadata": {},
   "outputs": [],
   "source": [
    "import pandas as pd\n",
    "import numpy as np\n",
    "import matplotlib.pyplot as plt\n",
    "%matplotlib inline"
   ]
  },
  {
   "cell_type": "code",
   "execution_count": 2,
   "id": "aaf31f23",
   "metadata": {},
   "outputs": [],
   "source": [
    "tennis = pd.read_csv(\"https://raw.githubusercontent.com/sjwhitworth/golearn/master/examples/datasets/tennis.csv\")"
   ]
  },
  {
   "cell_type": "code",
   "execution_count": 3,
   "id": "4eae0a75",
   "metadata": {},
   "outputs": [
    {
     "data": {
      "text/html": [
       "<div>\n",
       "<style scoped>\n",
       "    .dataframe tbody tr th:only-of-type {\n",
       "        vertical-align: middle;\n",
       "    }\n",
       "\n",
       "    .dataframe tbody tr th {\n",
       "        vertical-align: top;\n",
       "    }\n",
       "\n",
       "    .dataframe thead th {\n",
       "        text-align: right;\n",
       "    }\n",
       "</style>\n",
       "<table border=\"1\" class=\"dataframe\">\n",
       "  <thead>\n",
       "    <tr style=\"text-align: right;\">\n",
       "      <th></th>\n",
       "      <th>outlook</th>\n",
       "      <th>temp</th>\n",
       "      <th>humidity</th>\n",
       "      <th>windy</th>\n",
       "      <th>play</th>\n",
       "    </tr>\n",
       "  </thead>\n",
       "  <tbody>\n",
       "    <tr>\n",
       "      <th>0</th>\n",
       "      <td>sunny</td>\n",
       "      <td>hot</td>\n",
       "      <td>high</td>\n",
       "      <td>False</td>\n",
       "      <td>no</td>\n",
       "    </tr>\n",
       "    <tr>\n",
       "      <th>1</th>\n",
       "      <td>sunny</td>\n",
       "      <td>hot</td>\n",
       "      <td>high</td>\n",
       "      <td>True</td>\n",
       "      <td>no</td>\n",
       "    </tr>\n",
       "    <tr>\n",
       "      <th>2</th>\n",
       "      <td>overcast</td>\n",
       "      <td>hot</td>\n",
       "      <td>high</td>\n",
       "      <td>False</td>\n",
       "      <td>yes</td>\n",
       "    </tr>\n",
       "    <tr>\n",
       "      <th>3</th>\n",
       "      <td>rainy</td>\n",
       "      <td>mild</td>\n",
       "      <td>high</td>\n",
       "      <td>False</td>\n",
       "      <td>yes</td>\n",
       "    </tr>\n",
       "    <tr>\n",
       "      <th>4</th>\n",
       "      <td>rainy</td>\n",
       "      <td>cool</td>\n",
       "      <td>normal</td>\n",
       "      <td>False</td>\n",
       "      <td>yes</td>\n",
       "    </tr>\n",
       "  </tbody>\n",
       "</table>\n",
       "</div>"
      ],
      "text/plain": [
       "    outlook  temp humidity  windy play\n",
       "0     sunny   hot     high  False   no\n",
       "1     sunny   hot     high   True   no\n",
       "2  overcast   hot     high  False  yes\n",
       "3     rainy  mild     high  False  yes\n",
       "4     rainy  cool   normal  False  yes"
      ]
     },
     "execution_count": 3,
     "metadata": {},
     "output_type": "execute_result"
    }
   ],
   "source": [
    "tennis.head()"
   ]
  },
  {
   "cell_type": "code",
   "execution_count": 4,
   "id": "2b2a65d4",
   "metadata": {},
   "outputs": [],
   "source": [
    "outlook = tennis.groupby(['outlook','play']).size()\n",
    "temp = tennis.groupby(['temp','play']).size()\n",
    "humidity = tennis.groupby(['humidity','play']).size()\n",
    "wind = tennis.groupby(['windy','play']).size()"
   ]
  },
  {
   "cell_type": "code",
   "execution_count": 5,
   "id": "e43d8f03",
   "metadata": {},
   "outputs": [],
   "source": [
    "play = tennis['play'].value_counts()"
   ]
  },
  {
   "cell_type": "markdown",
   "id": "2463c5cb",
   "metadata": {},
   "source": [
    "### What is the probability of playing tennis given it is rainy?"
   ]
  },
  {
   "cell_type": "code",
   "execution_count": 6,
   "id": "104e351d",
   "metadata": {},
   "outputs": [],
   "source": [
    "ct = pd.crosstab(tennis['outlook'],tennis['play'],margins=True)"
   ]
  },
  {
   "cell_type": "code",
   "execution_count": 7,
   "id": "66afc499",
   "metadata": {},
   "outputs": [
    {
     "name": "stdout",
     "output_type": "stream",
     "text": [
      "play      no  yes  All\n",
      "outlook               \n",
      "overcast   0    4    4\n",
      "rainy      2    3    5\n",
      "sunny      3    2    5\n",
      "All        5    9   14\n"
     ]
    }
   ],
   "source": [
    "print(ct)"
   ]
  },
  {
   "cell_type": "code",
   "execution_count": 28,
   "id": "1b460ea0",
   "metadata": {},
   "outputs": [],
   "source": [
    "prob_yes = ct.iloc[3,1] / ct.iloc[3,2]\n",
    "prob_rain_yes = ct.iloc[1,1] / ct.iloc[3,1]"
   ]
  },
  {
   "cell_type": "code",
   "execution_count": 85,
   "id": "e1ffc094",
   "metadata": {},
   "outputs": [],
   "source": [
    "prob_result_yes = prob_yes * prob_rain_yes"
   ]
  },
  {
   "cell_type": "code",
   "execution_count": 86,
   "id": "992a33c2",
   "metadata": {},
   "outputs": [],
   "source": [
    "prob_result_yes = np.round(prob_result_yes,3)"
   ]
  },
  {
   "cell_type": "code",
   "execution_count": 87,
   "id": "db61df3e",
   "metadata": {},
   "outputs": [
    {
     "data": {
      "text/plain": [
       "0.214"
      ]
     },
     "execution_count": 87,
     "metadata": {},
     "output_type": "execute_result"
    }
   ],
   "source": [
    "prob_result_yes"
   ]
  },
  {
   "cell_type": "code",
   "execution_count": 88,
   "id": "579faf1d",
   "metadata": {},
   "outputs": [],
   "source": [
    "prob_no = ct.iloc[3,0] / ct.iloc[3,2]\n",
    "prob_rain_no = ct.iloc[1,0] / ct.iloc[3,0]"
   ]
  },
  {
   "cell_type": "code",
   "execution_count": 89,
   "id": "a17dd695",
   "metadata": {},
   "outputs": [],
   "source": [
    "prob_result_no = prob_no * prob_rain_no"
   ]
  },
  {
   "cell_type": "code",
   "execution_count": 91,
   "id": "0ac78615",
   "metadata": {},
   "outputs": [],
   "source": [
    "prob_result_no = np.round(prob_result_no,3)"
   ]
  },
  {
   "cell_type": "code",
   "execution_count": 92,
   "id": "1327830a",
   "metadata": {},
   "outputs": [
    {
     "data": {
      "text/plain": [
       "0.143"
      ]
     },
     "execution_count": 92,
     "metadata": {},
     "output_type": "execute_result"
    }
   ],
   "source": [
    "prob_result_no"
   ]
  },
  {
   "cell_type": "code",
   "execution_count": 95,
   "id": "52e86cf2",
   "metadata": {},
   "outputs": [
    {
     "data": {
      "text/plain": [
       "59.94"
      ]
     },
     "execution_count": 95,
     "metadata": {},
     "output_type": "execute_result"
    }
   ],
   "source": [
    "play_yes = prob_result_yes / (prob_result_yes + prob_result_no)\n",
    "np.round(play_yes * 100,2)"
   ]
  },
  {
   "cell_type": "code",
   "execution_count": 96,
   "id": "8df43376",
   "metadata": {},
   "outputs": [
    {
     "data": {
      "text/plain": [
       "40.06"
      ]
     },
     "execution_count": 96,
     "metadata": {},
     "output_type": "execute_result"
    }
   ],
   "source": [
    "play_no = prob_result_no / (prob_result_yes + prob_result_no)\n",
    "np.round(play_no * 100,2)"
   ]
  },
  {
   "cell_type": "code",
   "execution_count": 97,
   "id": "c9e48ad2",
   "metadata": {},
   "outputs": [
    {
     "name": "stdout",
     "output_type": "stream",
     "text": [
      "Yes You can play\n"
     ]
    }
   ],
   "source": [
    "if play_yes > play_no:\n",
    "    print(\"Yes You can play\")\n",
    "else:\n",
    "    print(\"No You can not play\")"
   ]
  },
  {
   "cell_type": "markdown",
   "id": "bbb85332",
   "metadata": {},
   "source": [
    "### What is the probability of playing Tennis given it is sunny and hot??"
   ]
  },
  {
   "cell_type": "code",
   "execution_count": 40,
   "id": "502c7185",
   "metadata": {},
   "outputs": [],
   "source": [
    "outlook_table = pd.crosstab(tennis['outlook'],tennis['play'],margins=True)"
   ]
  },
  {
   "cell_type": "code",
   "execution_count": 41,
   "id": "031f9329",
   "metadata": {},
   "outputs": [
    {
     "name": "stdout",
     "output_type": "stream",
     "text": [
      "play      no  yes  All\n",
      "outlook               \n",
      "overcast   0    4    4\n",
      "rainy      2    3    5\n",
      "sunny      3    2    5\n",
      "All        5    9   14\n"
     ]
    }
   ],
   "source": [
    "print(outlook_table)"
   ]
  },
  {
   "cell_type": "code",
   "execution_count": 43,
   "id": "8cf90b88",
   "metadata": {},
   "outputs": [],
   "source": [
    "temp_table = pd.crosstab(tennis['temp'],tennis['play'],margins=True)"
   ]
  },
  {
   "cell_type": "code",
   "execution_count": 44,
   "id": "fb39ca2b",
   "metadata": {},
   "outputs": [
    {
     "name": "stdout",
     "output_type": "stream",
     "text": [
      "play  no  yes  All\n",
      "temp              \n",
      "cool   1    3    4\n",
      "hot    2    2    4\n",
      "mild   2    4    6\n",
      "All    5    9   14\n"
     ]
    }
   ],
   "source": [
    "print(temp_table)"
   ]
  },
  {
   "cell_type": "code",
   "execution_count": 49,
   "id": "cae6663f",
   "metadata": {},
   "outputs": [],
   "source": [
    "prob_yes = temp_table.iloc[3,1] / temp_table.iloc[3,2]\n",
    "prob_sunny_yes = outlook_table.iloc[2,1] / outlook_table.iloc[3,1]\n",
    "prob_hot_yes = temp_table.iloc[1,1] / temp_table.iloc[3,1]"
   ]
  },
  {
   "cell_type": "code",
   "execution_count": 71,
   "id": "f0e73abb",
   "metadata": {},
   "outputs": [],
   "source": [
    "prob_res_yes = (prob_yes * prob_sunny_yes * prob_hot_yes) "
   ]
  },
  {
   "cell_type": "code",
   "execution_count": 72,
   "id": "3a3f401c",
   "metadata": {},
   "outputs": [],
   "source": [
    "prob_res_yes =np.round(prob_res_yes,3)"
   ]
  },
  {
   "cell_type": "code",
   "execution_count": 73,
   "id": "9411e7f0",
   "metadata": {},
   "outputs": [
    {
     "data": {
      "text/plain": [
       "0.032"
      ]
     },
     "execution_count": 73,
     "metadata": {},
     "output_type": "execute_result"
    }
   ],
   "source": [
    "prob_res_yes"
   ]
  },
  {
   "cell_type": "code",
   "execution_count": 58,
   "id": "76d94dc7",
   "metadata": {},
   "outputs": [],
   "source": [
    "prob_no = temp_table.iloc[3,0] / temp_table.iloc[3,2]\n",
    "prob_sunny_no = outlook_table.iloc[2,0] / outlook_table.iloc[3,0]\n",
    "prob_hot_no = temp_table.iloc[1,0] / temp_table.iloc[3,0]"
   ]
  },
  {
   "cell_type": "code",
   "execution_count": 74,
   "id": "46d9416f",
   "metadata": {},
   "outputs": [],
   "source": [
    "prob_res_no = (prob_no * prob_sunny_no * prob_hot_no)"
   ]
  },
  {
   "cell_type": "code",
   "execution_count": 75,
   "id": "8b96909a",
   "metadata": {},
   "outputs": [],
   "source": [
    "prob_res_no = np.round(prob_res_no,3)"
   ]
  },
  {
   "cell_type": "code",
   "execution_count": 76,
   "id": "a13c42c4",
   "metadata": {},
   "outputs": [
    {
     "data": {
      "text/plain": [
       "0.086"
      ]
     },
     "execution_count": 76,
     "metadata": {},
     "output_type": "execute_result"
    }
   ],
   "source": [
    "prob_res_no"
   ]
  },
  {
   "cell_type": "code",
   "execution_count": 80,
   "id": "b31f2340",
   "metadata": {},
   "outputs": [
    {
     "data": {
      "text/plain": [
       "27.12"
      ]
     },
     "execution_count": 80,
     "metadata": {},
     "output_type": "execute_result"
    }
   ],
   "source": [
    "play_yes = (prob_res_yes) / (prob_res_yes + prob_res_no)\n",
    "np.round(play_yes * 100,2)"
   ]
  },
  {
   "cell_type": "code",
   "execution_count": 81,
   "id": "914c6a08",
   "metadata": {},
   "outputs": [
    {
     "data": {
      "text/plain": [
       "72.88"
      ]
     },
     "execution_count": 81,
     "metadata": {},
     "output_type": "execute_result"
    }
   ],
   "source": [
    "play_no = (prob_res_no) / (prob_res_yes + prob_res_no)\n",
    "np.round(play_no * 100,2)"
   ]
  },
  {
   "cell_type": "markdown",
   "id": "dc5135f8",
   "metadata": {},
   "source": [
    "#### Ans:\n",
    "since, probability of `play_no` is more than probability of `play_yes`. So The Probability of Playing Tennis is no given it is sunny and hot"
   ]
  },
  {
   "cell_type": "code",
   "execution_count": null,
   "id": "575ae833",
   "metadata": {},
   "outputs": [],
   "source": []
  }
 ],
 "metadata": {
  "kernelspec": {
   "display_name": "Python 3 (ipykernel)",
   "language": "python",
   "name": "python3"
  },
  "language_info": {
   "codemirror_mode": {
    "name": "ipython",
    "version": 3
   },
   "file_extension": ".py",
   "mimetype": "text/x-python",
   "name": "python",
   "nbconvert_exporter": "python",
   "pygments_lexer": "ipython3",
   "version": "3.9.7"
  }
 },
 "nbformat": 4,
 "nbformat_minor": 5
}
