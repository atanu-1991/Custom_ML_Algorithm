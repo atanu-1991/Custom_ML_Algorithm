{
 "cells": [
  {
   "cell_type": "markdown",
   "id": "f0db8de6",
   "metadata": {},
   "source": [
    "### Imports"
   ]
  },
  {
   "cell_type": "code",
   "execution_count": 9,
   "id": "c3d14c5a",
   "metadata": {},
   "outputs": [],
   "source": [
    "import numpy as np\n",
    "import pandas as pd\n",
    "from collections import Counter\n",
    "from sklearn.tree import DecisionTreeClassifier"
   ]
  },
  {
   "cell_type": "markdown",
   "id": "fbb34b5f",
   "metadata": {},
   "source": [
    "### Helper functions"
   ]
  },
  {
   "cell_type": "code",
   "execution_count": 6,
   "id": "8ff0ae8e",
   "metadata": {},
   "outputs": [],
   "source": [
    "def compute_error(y, y_pred, w_i):\n",
    "    \"\"\"\n",
    "    Calculate the error rate of a weak classifier m\n",
    "    \n",
    "    :param y: actual target value\n",
    "    :param y_pred: predicted value by weak classifier\n",
    "    :param w_i: individual weights for each observationn\n",
    "    :return: Error rate\n",
    "    \n",
    "    Note that all arrays should be the same length\n",
    "    \"\"\"\n",
    "    return (sum(w_i * (np.not_equal(y, y_pred)).astype(int))) / sum(w_i)"
   ]
  },
  {
   "cell_type": "code",
   "execution_count": 7,
   "id": "879bd1e4",
   "metadata": {},
   "outputs": [],
   "source": [
    "def compute_alpha(error):\n",
    "    \"\"\"\n",
    "    Calculate the weight(α) of a weak classifier m in the majority vote of the final classifier.\n",
    "    This is called alpha(α) in chapter 10.1 of The Elements of Statistics Learning\n",
    "    : param error: error rate from weak classifier m\n",
    "    : return: Weight/alpha(α)\n",
    "    \"\"\"\n",
    "    return np.log((1-error)/error)\n",
    "    "
   ]
  },
  {
   "cell_type": "code",
   "execution_count": 8,
   "id": "03c69fdd",
   "metadata": {},
   "outputs": [],
   "source": [
    "def update_weights(w_i, alpha, y, y_pred):\n",
    "    \"\"\"\n",
    "    Update individual weights w_i after a boosting iteration.\n",
    "    :param w_i: individual weights for each observation\n",
    "    :param y: actual target value\n",
    "    :param y_pred: predicted value by weak classifier\n",
    "    :param alpha: weight of weak classifier used to estimate y_pred\n",
    "    \"\"\"\n",
    "    return w_i * np.exp(alpha * (np.not_equal(y, y_pred)).astype(int))"
   ]
  },
  {
   "cell_type": "markdown",
   "id": "475f59e7",
   "metadata": {},
   "source": [
    "### Define AdaBoost Class"
   ]
  },
  {
   "cell_type": "code",
   "execution_count": 44,
   "id": "6c7a6be0",
   "metadata": {},
   "outputs": [],
   "source": [
    "class AdaBoost:\n",
    "    \n",
    "    def __init__(self):\n",
    "        self.alphas = []\n",
    "        self.G_M = []\n",
    "        self.M = None\n",
    "        self.training_errors = []\n",
    "        self.prediction_errors = []\n",
    "        \n",
    "        \n",
    "    def fit(self, X, y, M=100):\n",
    "        \"\"\"\n",
    "        Fit Models\n",
    "        :param X: independent variables - array-like matrix\n",
    "        :param y: target variable - array-like vector\n",
    "        :param M: number of boosting rounds. Default is 100 - integer\n",
    "        \"\"\"\n",
    "        # Clear before calling\n",
    "        self.alphas = []\n",
    "        self.training_errors = []\n",
    "        self.M = M\n",
    "        \n",
    "        # Iterate over M weak classifiers\n",
    "        for m in range(0, M):\n",
    "            \n",
    "            # Set weights for current boosting iteration\n",
    "            if m==0:\n",
    "                \n",
    "                w_i = np.ones(len(y)) * 1 / len(y) # At m=0, weights are all the same and equal to 1/N\n",
    "                \n",
    "            else:\n",
    "                \n",
    "                # (d) Update w_i\n",
    "                w_i = update_weights(w_i, alpha=alpha_m, y=y, y_pred=y_pred)\n",
    "                \n",
    "#             print(w_i)\n",
    "            \n",
    "            \n",
    "            # (a) Fit weak classifier and predict labels\n",
    "            G_m = DecisionTreeClassifier(max_depth=1) #Stump: Two terminal-node classification tree\n",
    "            G_m.fit(X, y, sample_weight=w_i)\n",
    "            y_pred = G_m.predict(X)\n",
    "            \n",
    "            self.G_M.append(G_m) # Save to list of weak classifiers\n",
    "            \n",
    "            \n",
    "            # (b) Compute Error\n",
    "            error_m = compute_error(y, y_pred, w_i)\n",
    "            self.training_errors.append(error_m)\n",
    "#             print(error_m)\n",
    "            \n",
    "            # (c) Compute Alpha\n",
    "            alpha_m = compute_alpha(error_m)\n",
    "            self.alphas.append(alpha_m)\n",
    "#             print(alpha_m)\n",
    "            \n",
    "        assert len(self.G_M) == len(self.alphas)\n",
    "        \n",
    "    \n",
    "    def predict(self, X):\n",
    "        \"\"\"\n",
    "        Predict using fitted model.\n",
    "        \n",
    "        :param X: independent variables - array-like\n",
    "        \"\"\"\n",
    "        # Initialise dataframe with weak predictions for each observations\n",
    "        weak_preds = pd.DataFrame(index= range(len(X)), columns= range(self.M))\n",
    "        \n",
    "        # Predict class label for each weak classifier, weighted by alpha_m\n",
    "        for m in range(self.M):\n",
    "            y_pred_m = self.G_M[m].predict(X) * self.alphas[m]\n",
    "            weak_preds.iloc[:,m] = y_pred_m\n",
    "            \n",
    "        # Calculate final predictions\n",
    "        y_pred = (1 * np.sign(weak_preds.T.sum())).astype(int)\n",
    "        \n",
    "        return y_pred"
   ]
  },
  {
   "cell_type": "code",
   "execution_count": 45,
   "id": "439c859a",
   "metadata": {},
   "outputs": [],
   "source": [
    "# Dataset\n",
    "df = pd.read_csv('spambase.data', header=None)"
   ]
  },
  {
   "cell_type": "code",
   "execution_count": 46,
   "id": "ec017093",
   "metadata": {},
   "outputs": [],
   "source": [
    "# Column Names\n",
    "names = pd.read_csv('spambase.names', sep=':', skiprows=range(0, 33), header=None)"
   ]
  },
  {
   "cell_type": "code",
   "execution_count": 47,
   "id": "a94f8f76",
   "metadata": {},
   "outputs": [],
   "source": [
    "col_names = list(names[0])"
   ]
  },
  {
   "cell_type": "code",
   "execution_count": 48,
   "id": "66f1c10e",
   "metadata": {},
   "outputs": [],
   "source": [
    "col_names.append('Spam')"
   ]
  },
  {
   "cell_type": "code",
   "execution_count": 49,
   "id": "3cbfc368",
   "metadata": {},
   "outputs": [],
   "source": [
    "# Rename df columns\n",
    "df.columns = col_names"
   ]
  },
  {
   "cell_type": "code",
   "execution_count": 50,
   "id": "afeb4c3b",
   "metadata": {},
   "outputs": [],
   "source": [
    "# Convert classes in target variable to {-1, 1}\n",
    "df['Spam'] = df['Spam'] * 2 - 1"
   ]
  },
  {
   "cell_type": "code",
   "execution_count": 51,
   "id": "f74186dd",
   "metadata": {},
   "outputs": [],
   "source": [
    "# Train - test split\n",
    "from sklearn.model_selection import train_test_split\n",
    "\n",
    "X_train, X_test, y_train, y_test = train_test_split(df.drop(columns = 'Spam').values, df['Spam'].values, train_size = 3065, random_state = 2) "
   ]
  },
  {
   "cell_type": "code",
   "execution_count": 52,
   "id": "882bc77e",
   "metadata": {},
   "outputs": [],
   "source": [
    "# Fit model\n",
    "ab = AdaBoost()\n",
    "ab.fit(X_train, y_train, M = 400)"
   ]
  },
  {
   "cell_type": "code",
   "execution_count": 53,
   "id": "2c4bb11c",
   "metadata": {},
   "outputs": [],
   "source": [
    "# Predict on test set\n",
    "y_pred = ab.predict(X_test)"
   ]
  },
  {
   "cell_type": "code",
   "execution_count": 54,
   "id": "8ffc0127",
   "metadata": {},
   "outputs": [
    {
     "data": {
      "text/plain": [
       "0.9440104166666666"
      ]
     },
     "execution_count": 54,
     "metadata": {},
     "output_type": "execute_result"
    }
   ],
   "source": [
    "from sklearn.metrics import accuracy_score\n",
    "\n",
    "accuracy_score(y_test, y_pred)"
   ]
  },
  {
   "cell_type": "markdown",
   "id": "95d80199",
   "metadata": {},
   "source": [
    "### Comparison with Scikit-Learn"
   ]
  },
  {
   "cell_type": "code",
   "execution_count": 55,
   "id": "a25bc47b",
   "metadata": {},
   "outputs": [],
   "source": [
    "from sklearn.ensemble import AdaBoostClassifier"
   ]
  },
  {
   "cell_type": "code",
   "execution_count": 57,
   "id": "f2155f28",
   "metadata": {},
   "outputs": [
    {
     "data": {
      "text/html": [
       "<style>#sk-container-id-1 {color: black;background-color: white;}#sk-container-id-1 pre{padding: 0;}#sk-container-id-1 div.sk-toggleable {background-color: white;}#sk-container-id-1 label.sk-toggleable__label {cursor: pointer;display: block;width: 100%;margin-bottom: 0;padding: 0.3em;box-sizing: border-box;text-align: center;}#sk-container-id-1 label.sk-toggleable__label-arrow:before {content: \"▸\";float: left;margin-right: 0.25em;color: #696969;}#sk-container-id-1 label.sk-toggleable__label-arrow:hover:before {color: black;}#sk-container-id-1 div.sk-estimator:hover label.sk-toggleable__label-arrow:before {color: black;}#sk-container-id-1 div.sk-toggleable__content {max-height: 0;max-width: 0;overflow: hidden;text-align: left;background-color: #f0f8ff;}#sk-container-id-1 div.sk-toggleable__content pre {margin: 0.2em;color: black;border-radius: 0.25em;background-color: #f0f8ff;}#sk-container-id-1 input.sk-toggleable__control:checked~div.sk-toggleable__content {max-height: 200px;max-width: 100%;overflow: auto;}#sk-container-id-1 input.sk-toggleable__control:checked~label.sk-toggleable__label-arrow:before {content: \"▾\";}#sk-container-id-1 div.sk-estimator input.sk-toggleable__control:checked~label.sk-toggleable__label {background-color: #d4ebff;}#sk-container-id-1 div.sk-label input.sk-toggleable__control:checked~label.sk-toggleable__label {background-color: #d4ebff;}#sk-container-id-1 input.sk-hidden--visually {border: 0;clip: rect(1px 1px 1px 1px);clip: rect(1px, 1px, 1px, 1px);height: 1px;margin: -1px;overflow: hidden;padding: 0;position: absolute;width: 1px;}#sk-container-id-1 div.sk-estimator {font-family: monospace;background-color: #f0f8ff;border: 1px dotted black;border-radius: 0.25em;box-sizing: border-box;margin-bottom: 0.5em;}#sk-container-id-1 div.sk-estimator:hover {background-color: #d4ebff;}#sk-container-id-1 div.sk-parallel-item::after {content: \"\";width: 100%;border-bottom: 1px solid gray;flex-grow: 1;}#sk-container-id-1 div.sk-label:hover label.sk-toggleable__label {background-color: #d4ebff;}#sk-container-id-1 div.sk-serial::before {content: \"\";position: absolute;border-left: 1px solid gray;box-sizing: border-box;top: 0;bottom: 0;left: 50%;z-index: 0;}#sk-container-id-1 div.sk-serial {display: flex;flex-direction: column;align-items: center;background-color: white;padding-right: 0.2em;padding-left: 0.2em;position: relative;}#sk-container-id-1 div.sk-item {position: relative;z-index: 1;}#sk-container-id-1 div.sk-parallel {display: flex;align-items: stretch;justify-content: center;background-color: white;position: relative;}#sk-container-id-1 div.sk-item::before, #sk-container-id-1 div.sk-parallel-item::before {content: \"\";position: absolute;border-left: 1px solid gray;box-sizing: border-box;top: 0;bottom: 0;left: 50%;z-index: -1;}#sk-container-id-1 div.sk-parallel-item {display: flex;flex-direction: column;z-index: 1;position: relative;background-color: white;}#sk-container-id-1 div.sk-parallel-item:first-child::after {align-self: flex-end;width: 50%;}#sk-container-id-1 div.sk-parallel-item:last-child::after {align-self: flex-start;width: 50%;}#sk-container-id-1 div.sk-parallel-item:only-child::after {width: 0;}#sk-container-id-1 div.sk-dashed-wrapped {border: 1px dashed gray;margin: 0 0.4em 0.5em 0.4em;box-sizing: border-box;padding-bottom: 0.4em;background-color: white;}#sk-container-id-1 div.sk-label label {font-family: monospace;font-weight: bold;display: inline-block;line-height: 1.2em;}#sk-container-id-1 div.sk-label-container {text-align: center;}#sk-container-id-1 div.sk-container {/* jupyter's `normalize.less` sets `[hidden] { display: none; }` but bootstrap.min.css set `[hidden] { display: none !important; }` so we also need the `!important` here to be able to override the default hidden behavior on the sphinx rendered scikit-learn.org. See: https://github.com/scikit-learn/scikit-learn/issues/21755 */display: inline-block !important;position: relative;}#sk-container-id-1 div.sk-text-repr-fallback {display: none;}</style><div id=\"sk-container-id-1\" class=\"sk-top-container\"><div class=\"sk-text-repr-fallback\"><pre>AdaBoostClassifier(n_estimators=400)</pre><b>In a Jupyter environment, please rerun this cell to show the HTML representation or trust the notebook. <br />On GitHub, the HTML representation is unable to render, please try loading this page with nbviewer.org.</b></div><div class=\"sk-container\" hidden><div class=\"sk-item\"><div class=\"sk-estimator sk-toggleable\"><input class=\"sk-toggleable__control sk-hidden--visually\" id=\"sk-estimator-id-1\" type=\"checkbox\" checked><label for=\"sk-estimator-id-1\" class=\"sk-toggleable__label sk-toggleable__label-arrow\">AdaBoostClassifier</label><div class=\"sk-toggleable__content\"><pre>AdaBoostClassifier(n_estimators=400)</pre></div></div></div></div></div>"
      ],
      "text/plain": [
       "AdaBoostClassifier(n_estimators=400)"
      ]
     },
     "execution_count": 57,
     "metadata": {},
     "output_type": "execute_result"
    }
   ],
   "source": [
    "model = AdaBoostClassifier(n_estimators=400)\n",
    "model.fit(X_train, y_train)"
   ]
  },
  {
   "cell_type": "code",
   "execution_count": 58,
   "id": "78b27e56",
   "metadata": {},
   "outputs": [],
   "source": [
    "y_pred = model.predict(X_test)"
   ]
  },
  {
   "cell_type": "code",
   "execution_count": 59,
   "id": "be38850a",
   "metadata": {},
   "outputs": [
    {
     "data": {
      "text/plain": [
       "0.931640625"
      ]
     },
     "execution_count": 59,
     "metadata": {},
     "output_type": "execute_result"
    }
   ],
   "source": [
    "accuracy_score(y_test, y_pred)"
   ]
  },
  {
   "cell_type": "code",
   "execution_count": null,
   "id": "539f4cff",
   "metadata": {},
   "outputs": [],
   "source": []
  }
 ],
 "metadata": {
  "kernelspec": {
   "display_name": "Python 3 (ipykernel)",
   "language": "python",
   "name": "python3"
  },
  "language_info": {
   "codemirror_mode": {
    "name": "ipython",
    "version": 3
   },
   "file_extension": ".py",
   "mimetype": "text/x-python",
   "name": "python",
   "nbconvert_exporter": "python",
   "pygments_lexer": "ipython3",
   "version": "3.9.7"
  }
 },
 "nbformat": 4,
 "nbformat_minor": 5
}
